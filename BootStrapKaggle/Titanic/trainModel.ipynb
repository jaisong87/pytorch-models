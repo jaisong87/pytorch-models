{
 "cells": [
  {
   "cell_type": "code",
   "execution_count": 1051,
   "metadata": {},
   "outputs": [],
   "source": [
    "import pandas as pd\n",
    "import matplotlib.pyplot as plt\n",
    "import seaborn as sns\n",
    "import torch\n",
    "import torch.nn as nn\n",
    "import numpy as np\n",
    "from torch.utils.data import TensorDataset, DataLoader\n",
    "import torch.nn.functional as F\n",
    "from torch import optim"
   ]
  },
  {
   "cell_type": "markdown",
   "metadata": {},
   "source": [
    "# Load train and test datasets\n",
    "In this section we load train and test datasets"
   ]
  },
  {
   "cell_type": "code",
   "execution_count": 1052,
   "metadata": {},
   "outputs": [],
   "source": [
    "df_train = pd.read_csv('train.csv')\n",
    "df_test = pd.read_csv('test.csv')"
   ]
  },
  {
   "cell_type": "code",
   "execution_count": 1053,
   "metadata": {},
   "outputs": [],
   "source": [
    "from sklearn.utils import shuffle"
   ]
  },
  {
   "cell_type": "code",
   "execution_count": 1054,
   "metadata": {},
   "outputs": [
    {
     "data": {
      "text/html": [
       "<div>\n",
       "<style scoped>\n",
       "    .dataframe tbody tr th:only-of-type {\n",
       "        vertical-align: middle;\n",
       "    }\n",
       "\n",
       "    .dataframe tbody tr th {\n",
       "        vertical-align: top;\n",
       "    }\n",
       "\n",
       "    .dataframe thead th {\n",
       "        text-align: right;\n",
       "    }\n",
       "</style>\n",
       "<table border=\"1\" class=\"dataframe\">\n",
       "  <thead>\n",
       "    <tr style=\"text-align: right;\">\n",
       "      <th></th>\n",
       "      <th>PassengerId</th>\n",
       "      <th>Survived</th>\n",
       "      <th>Pclass</th>\n",
       "      <th>Name</th>\n",
       "      <th>Sex</th>\n",
       "      <th>Age</th>\n",
       "      <th>SibSp</th>\n",
       "      <th>Parch</th>\n",
       "      <th>Ticket</th>\n",
       "      <th>Fare</th>\n",
       "      <th>Cabin</th>\n",
       "      <th>Embarked</th>\n",
       "    </tr>\n",
       "  </thead>\n",
       "  <tbody>\n",
       "    <tr>\n",
       "      <th>0</th>\n",
       "      <td>1</td>\n",
       "      <td>0</td>\n",
       "      <td>3</td>\n",
       "      <td>Braund, Mr. Owen Harris</td>\n",
       "      <td>male</td>\n",
       "      <td>22.0</td>\n",
       "      <td>1</td>\n",
       "      <td>0</td>\n",
       "      <td>A/5 21171</td>\n",
       "      <td>7.2500</td>\n",
       "      <td>NaN</td>\n",
       "      <td>S</td>\n",
       "    </tr>\n",
       "    <tr>\n",
       "      <th>1</th>\n",
       "      <td>2</td>\n",
       "      <td>1</td>\n",
       "      <td>1</td>\n",
       "      <td>Cumings, Mrs. John Bradley (Florence Briggs Th...</td>\n",
       "      <td>female</td>\n",
       "      <td>38.0</td>\n",
       "      <td>1</td>\n",
       "      <td>0</td>\n",
       "      <td>PC 17599</td>\n",
       "      <td>71.2833</td>\n",
       "      <td>C85</td>\n",
       "      <td>C</td>\n",
       "    </tr>\n",
       "    <tr>\n",
       "      <th>2</th>\n",
       "      <td>3</td>\n",
       "      <td>1</td>\n",
       "      <td>3</td>\n",
       "      <td>Heikkinen, Miss. Laina</td>\n",
       "      <td>female</td>\n",
       "      <td>26.0</td>\n",
       "      <td>0</td>\n",
       "      <td>0</td>\n",
       "      <td>STON/O2. 3101282</td>\n",
       "      <td>7.9250</td>\n",
       "      <td>NaN</td>\n",
       "      <td>S</td>\n",
       "    </tr>\n",
       "    <tr>\n",
       "      <th>3</th>\n",
       "      <td>4</td>\n",
       "      <td>1</td>\n",
       "      <td>1</td>\n",
       "      <td>Futrelle, Mrs. Jacques Heath (Lily May Peel)</td>\n",
       "      <td>female</td>\n",
       "      <td>35.0</td>\n",
       "      <td>1</td>\n",
       "      <td>0</td>\n",
       "      <td>113803</td>\n",
       "      <td>53.1000</td>\n",
       "      <td>C123</td>\n",
       "      <td>S</td>\n",
       "    </tr>\n",
       "    <tr>\n",
       "      <th>4</th>\n",
       "      <td>5</td>\n",
       "      <td>0</td>\n",
       "      <td>3</td>\n",
       "      <td>Allen, Mr. William Henry</td>\n",
       "      <td>male</td>\n",
       "      <td>35.0</td>\n",
       "      <td>0</td>\n",
       "      <td>0</td>\n",
       "      <td>373450</td>\n",
       "      <td>8.0500</td>\n",
       "      <td>NaN</td>\n",
       "      <td>S</td>\n",
       "    </tr>\n",
       "    <tr>\n",
       "      <th>5</th>\n",
       "      <td>6</td>\n",
       "      <td>0</td>\n",
       "      <td>3</td>\n",
       "      <td>Moran, Mr. James</td>\n",
       "      <td>male</td>\n",
       "      <td>NaN</td>\n",
       "      <td>0</td>\n",
       "      <td>0</td>\n",
       "      <td>330877</td>\n",
       "      <td>8.4583</td>\n",
       "      <td>NaN</td>\n",
       "      <td>Q</td>\n",
       "    </tr>\n",
       "    <tr>\n",
       "      <th>6</th>\n",
       "      <td>7</td>\n",
       "      <td>0</td>\n",
       "      <td>1</td>\n",
       "      <td>McCarthy, Mr. Timothy J</td>\n",
       "      <td>male</td>\n",
       "      <td>54.0</td>\n",
       "      <td>0</td>\n",
       "      <td>0</td>\n",
       "      <td>17463</td>\n",
       "      <td>51.8625</td>\n",
       "      <td>E46</td>\n",
       "      <td>S</td>\n",
       "    </tr>\n",
       "    <tr>\n",
       "      <th>7</th>\n",
       "      <td>8</td>\n",
       "      <td>0</td>\n",
       "      <td>3</td>\n",
       "      <td>Palsson, Master. Gosta Leonard</td>\n",
       "      <td>male</td>\n",
       "      <td>2.0</td>\n",
       "      <td>3</td>\n",
       "      <td>1</td>\n",
       "      <td>349909</td>\n",
       "      <td>21.0750</td>\n",
       "      <td>NaN</td>\n",
       "      <td>S</td>\n",
       "    </tr>\n",
       "    <tr>\n",
       "      <th>8</th>\n",
       "      <td>9</td>\n",
       "      <td>1</td>\n",
       "      <td>3</td>\n",
       "      <td>Johnson, Mrs. Oscar W (Elisabeth Vilhelmina Berg)</td>\n",
       "      <td>female</td>\n",
       "      <td>27.0</td>\n",
       "      <td>0</td>\n",
       "      <td>2</td>\n",
       "      <td>347742</td>\n",
       "      <td>11.1333</td>\n",
       "      <td>NaN</td>\n",
       "      <td>S</td>\n",
       "    </tr>\n",
       "    <tr>\n",
       "      <th>9</th>\n",
       "      <td>10</td>\n",
       "      <td>1</td>\n",
       "      <td>2</td>\n",
       "      <td>Nasser, Mrs. Nicholas (Adele Achem)</td>\n",
       "      <td>female</td>\n",
       "      <td>14.0</td>\n",
       "      <td>1</td>\n",
       "      <td>0</td>\n",
       "      <td>237736</td>\n",
       "      <td>30.0708</td>\n",
       "      <td>NaN</td>\n",
       "      <td>C</td>\n",
       "    </tr>\n",
       "  </tbody>\n",
       "</table>\n",
       "</div>"
      ],
      "text/plain": [
       "   PassengerId  Survived  Pclass  \\\n",
       "0            1         0       3   \n",
       "1            2         1       1   \n",
       "2            3         1       3   \n",
       "3            4         1       1   \n",
       "4            5         0       3   \n",
       "5            6         0       3   \n",
       "6            7         0       1   \n",
       "7            8         0       3   \n",
       "8            9         1       3   \n",
       "9           10         1       2   \n",
       "\n",
       "                                                Name     Sex   Age  SibSp  \\\n",
       "0                            Braund, Mr. Owen Harris    male  22.0      1   \n",
       "1  Cumings, Mrs. John Bradley (Florence Briggs Th...  female  38.0      1   \n",
       "2                             Heikkinen, Miss. Laina  female  26.0      0   \n",
       "3       Futrelle, Mrs. Jacques Heath (Lily May Peel)  female  35.0      1   \n",
       "4                           Allen, Mr. William Henry    male  35.0      0   \n",
       "5                                   Moran, Mr. James    male   NaN      0   \n",
       "6                            McCarthy, Mr. Timothy J    male  54.0      0   \n",
       "7                     Palsson, Master. Gosta Leonard    male   2.0      3   \n",
       "8  Johnson, Mrs. Oscar W (Elisabeth Vilhelmina Berg)  female  27.0      0   \n",
       "9                Nasser, Mrs. Nicholas (Adele Achem)  female  14.0      1   \n",
       "\n",
       "   Parch            Ticket     Fare Cabin Embarked  \n",
       "0      0         A/5 21171   7.2500   NaN        S  \n",
       "1      0          PC 17599  71.2833   C85        C  \n",
       "2      0  STON/O2. 3101282   7.9250   NaN        S  \n",
       "3      0            113803  53.1000  C123        S  \n",
       "4      0            373450   8.0500   NaN        S  \n",
       "5      0            330877   8.4583   NaN        Q  \n",
       "6      0             17463  51.8625   E46        S  \n",
       "7      1            349909  21.0750   NaN        S  \n",
       "8      2            347742  11.1333   NaN        S  \n",
       "9      0            237736  30.0708   NaN        C  "
      ]
     },
     "execution_count": 1054,
     "metadata": {},
     "output_type": "execute_result"
    }
   ],
   "source": [
    "df_train.head(10)"
   ]
  },
  {
   "cell_type": "code",
   "execution_count": 1055,
   "metadata": {},
   "outputs": [],
   "source": [
    "df_train['CabinId'] = df_train['Cabin'].str[0]\n",
    "df_test['CabinId'] = df_test['Cabin'].str[0]"
   ]
  },
  {
   "cell_type": "code",
   "execution_count": 1056,
   "metadata": {},
   "outputs": [],
   "source": [
    "# PassengerId      - running counter. Not useful(Ignore)\n",
    "# Survived         - Dependent variable\n",
    "# Pclass           - 3 class feature\n",
    "# Name             - Complex feature\n",
    "# Sex              - No unknowns\n",
    "# Age              - float feature with unknowns\n",
    "# SibSp            - float feature in [0, 10]\n",
    "# Parch            - float feature in [0, 10]\n",
    "# Ticket           - \n",
    "# Fare             - ticket value from [0, 500]\n",
    "# Cabin            - 687 unknowns, not very useful\n",
    "# Embarked         - 3 class variable"
   ]
  },
  {
   "cell_type": "code",
   "execution_count": 1057,
   "metadata": {},
   "outputs": [
    {
     "data": {
      "text/html": [
       "<div>\n",
       "<style scoped>\n",
       "    .dataframe tbody tr th:only-of-type {\n",
       "        vertical-align: middle;\n",
       "    }\n",
       "\n",
       "    .dataframe tbody tr th {\n",
       "        vertical-align: top;\n",
       "    }\n",
       "\n",
       "    .dataframe thead th {\n",
       "        text-align: right;\n",
       "    }\n",
       "</style>\n",
       "<table border=\"1\" class=\"dataframe\">\n",
       "  <thead>\n",
       "    <tr style=\"text-align: right;\">\n",
       "      <th></th>\n",
       "      <th>PassengerId</th>\n",
       "      <th>Survived</th>\n",
       "      <th>Pclass</th>\n",
       "      <th>Age</th>\n",
       "      <th>SibSp</th>\n",
       "      <th>Parch</th>\n",
       "      <th>Fare</th>\n",
       "    </tr>\n",
       "  </thead>\n",
       "  <tbody>\n",
       "    <tr>\n",
       "      <th>count</th>\n",
       "      <td>891.000000</td>\n",
       "      <td>891.000000</td>\n",
       "      <td>891.000000</td>\n",
       "      <td>714.000000</td>\n",
       "      <td>891.000000</td>\n",
       "      <td>891.000000</td>\n",
       "      <td>891.000000</td>\n",
       "    </tr>\n",
       "    <tr>\n",
       "      <th>mean</th>\n",
       "      <td>446.000000</td>\n",
       "      <td>0.383838</td>\n",
       "      <td>2.308642</td>\n",
       "      <td>29.699118</td>\n",
       "      <td>0.523008</td>\n",
       "      <td>0.381594</td>\n",
       "      <td>32.204208</td>\n",
       "    </tr>\n",
       "    <tr>\n",
       "      <th>std</th>\n",
       "      <td>257.353842</td>\n",
       "      <td>0.486592</td>\n",
       "      <td>0.836071</td>\n",
       "      <td>14.526497</td>\n",
       "      <td>1.102743</td>\n",
       "      <td>0.806057</td>\n",
       "      <td>49.693429</td>\n",
       "    </tr>\n",
       "    <tr>\n",
       "      <th>min</th>\n",
       "      <td>1.000000</td>\n",
       "      <td>0.000000</td>\n",
       "      <td>1.000000</td>\n",
       "      <td>0.420000</td>\n",
       "      <td>0.000000</td>\n",
       "      <td>0.000000</td>\n",
       "      <td>0.000000</td>\n",
       "    </tr>\n",
       "    <tr>\n",
       "      <th>25%</th>\n",
       "      <td>223.500000</td>\n",
       "      <td>0.000000</td>\n",
       "      <td>2.000000</td>\n",
       "      <td>20.125000</td>\n",
       "      <td>0.000000</td>\n",
       "      <td>0.000000</td>\n",
       "      <td>7.910400</td>\n",
       "    </tr>\n",
       "    <tr>\n",
       "      <th>50%</th>\n",
       "      <td>446.000000</td>\n",
       "      <td>0.000000</td>\n",
       "      <td>3.000000</td>\n",
       "      <td>28.000000</td>\n",
       "      <td>0.000000</td>\n",
       "      <td>0.000000</td>\n",
       "      <td>14.454200</td>\n",
       "    </tr>\n",
       "    <tr>\n",
       "      <th>75%</th>\n",
       "      <td>668.500000</td>\n",
       "      <td>1.000000</td>\n",
       "      <td>3.000000</td>\n",
       "      <td>38.000000</td>\n",
       "      <td>1.000000</td>\n",
       "      <td>0.000000</td>\n",
       "      <td>31.000000</td>\n",
       "    </tr>\n",
       "    <tr>\n",
       "      <th>max</th>\n",
       "      <td>891.000000</td>\n",
       "      <td>1.000000</td>\n",
       "      <td>3.000000</td>\n",
       "      <td>80.000000</td>\n",
       "      <td>8.000000</td>\n",
       "      <td>6.000000</td>\n",
       "      <td>512.329200</td>\n",
       "    </tr>\n",
       "  </tbody>\n",
       "</table>\n",
       "</div>"
      ],
      "text/plain": [
       "       PassengerId    Survived      Pclass         Age       SibSp  \\\n",
       "count   891.000000  891.000000  891.000000  714.000000  891.000000   \n",
       "mean    446.000000    0.383838    2.308642   29.699118    0.523008   \n",
       "std     257.353842    0.486592    0.836071   14.526497    1.102743   \n",
       "min       1.000000    0.000000    1.000000    0.420000    0.000000   \n",
       "25%     223.500000    0.000000    2.000000   20.125000    0.000000   \n",
       "50%     446.000000    0.000000    3.000000   28.000000    0.000000   \n",
       "75%     668.500000    1.000000    3.000000   38.000000    1.000000   \n",
       "max     891.000000    1.000000    3.000000   80.000000    8.000000   \n",
       "\n",
       "            Parch        Fare  \n",
       "count  891.000000  891.000000  \n",
       "mean     0.381594   32.204208  \n",
       "std      0.806057   49.693429  \n",
       "min      0.000000    0.000000  \n",
       "25%      0.000000    7.910400  \n",
       "50%      0.000000   14.454200  \n",
       "75%      0.000000   31.000000  \n",
       "max      6.000000  512.329200  "
      ]
     },
     "execution_count": 1057,
     "metadata": {},
     "output_type": "execute_result"
    }
   ],
   "source": [
    "df_train.describe()"
   ]
  },
  {
   "cell_type": "code",
   "execution_count": 1058,
   "metadata": {},
   "outputs": [
    {
     "data": {
      "text/plain": [
       "PassengerId      0\n",
       "Survived         0\n",
       "Pclass           0\n",
       "Name             0\n",
       "Sex              0\n",
       "Age            177\n",
       "SibSp            0\n",
       "Parch            0\n",
       "Ticket           0\n",
       "Fare             0\n",
       "Cabin          687\n",
       "Embarked         2\n",
       "CabinId        687\n",
       "dtype: int64"
      ]
     },
     "execution_count": 1058,
     "metadata": {},
     "output_type": "execute_result"
    }
   ],
   "source": [
    "df_train.isna().sum()"
   ]
  },
  {
   "cell_type": "markdown",
   "metadata": {},
   "source": [
    "# Feature engineering\n",
    "We preprocess some features and extract more features. These include cabinIdx, Title and so on.\n",
    "We also replace age with median age for the title"
   ]
  },
  {
   "cell_type": "code",
   "execution_count": 1059,
   "metadata": {},
   "outputs": [
    {
     "data": {
      "text/plain": [
       "array(['Mr', 'Mrs', 'Miss', 'Master', 'Don', 'Rev', 'Dr', 'Mme', 'Ms',\n",
       "       'Major', 'Lady', 'Sir', 'Mlle', 'Col', 'Capt', 'the Countess',\n",
       "       'Jonkheer'], dtype=object)"
      ]
     },
     "execution_count": 1059,
     "metadata": {},
     "output_type": "execute_result"
    }
   ],
   "source": [
    "df_train['Title'] = df_train['Name'].map(lambda x: x.split(',')[1].split('.')[0].strip())\n",
    "titles = df_train['Title'].unique()\n",
    "titles"
   ]
  },
  {
   "cell_type": "code",
   "execution_count": 1060,
   "metadata": {},
   "outputs": [
    {
     "data": {
      "text/plain": [
       "array(['Mr', 'Mrs', 'Miss', 'Master', 'Ms', 'Col', 'Rev', 'Dr', 'Dona'],\n",
       "      dtype=object)"
      ]
     },
     "execution_count": 1060,
     "metadata": {},
     "output_type": "execute_result"
    }
   ],
   "source": [
    "df_test['Title'] = df_test['Name'].map(lambda x: x.split(',')[1].split('.')[0].strip())\n",
    "titles_test = df_test['Title'].unique()\n",
    "titles_test"
   ]
  },
  {
   "cell_type": "code",
   "execution_count": 1061,
   "metadata": {},
   "outputs": [],
   "source": [
    "df_train['Age'].fillna(-1, inplace=True)\n",
    "df_test['Age'].fillna(-1, inplace=True)\n",
    "\n",
    "median_age_for_title = dict()\n",
    "counts_for_title = dict()\n",
    "for title in titles:\n",
    "    median = df_train.Age[(df_train[\"Age\"] != -1) & (df_train['Title'] == title)].median()\n",
    "    median_age_for_title[title] = median\n",
    "    counts_for_title[title] = df_train.Title[df_train['Title'] == title].count()"
   ]
  },
  {
   "cell_type": "code",
   "execution_count": 1062,
   "metadata": {},
   "outputs": [
    {
     "data": {
      "text/plain": [
       "{'Dr': 46.5, 'Master': 3.5, 'Miss': 21.0, 'Mr': 30.0, 'Mrs': 35.0, 'Rev': 46.5}"
      ]
     },
     "execution_count": 1062,
     "metadata": {},
     "output_type": "execute_result"
    }
   ],
   "source": [
    "median_age_for_title_filtered = {k:v for (k, v) in median_age_for_title.items() if counts_for_title[k]>=3}\n",
    "median_age_for_title_filtered"
   ]
  },
  {
   "cell_type": "code",
   "execution_count": 1063,
   "metadata": {},
   "outputs": [],
   "source": [
    "for index, row in df_train.iterrows():\n",
    "    if row['Age'] == -1:\n",
    "        if median_age_for_title_filtered.has_key(row['Title']):\n",
    "            df_train.loc[index, 'Age'] = median_age_for_title_filtered[row['Title']]\n",
    "        else:\n",
    "            df_train.loc[index, 'Age'] = 28"
   ]
  },
  {
   "cell_type": "code",
   "execution_count": 1064,
   "metadata": {},
   "outputs": [],
   "source": [
    "for index, row in df_test.iterrows():\n",
    "    if row['Age'] == -1:\n",
    "        if median_age_for_title_filtered.has_key(row['Title']):\n",
    "            df_test.loc[index, 'Age'] = median_age_for_title_filtered[row['Title']]\n",
    "        else:\n",
    "            df_test.loc[index, 'Age'] = 28"
   ]
  },
  {
   "cell_type": "markdown",
   "metadata": {},
   "source": [
    "# Dicts for categorical features\n",
    "For features which are categorical, we use one hot encoding\n",
    "and we look at the feature dicts."
   ]
  },
  {
   "cell_type": "code",
   "execution_count": 1065,
   "metadata": {},
   "outputs": [
    {
     "data": {
      "text/plain": [
       "['Miss', 'Rev', 'Mrs', 'Master', 'Mr', 'Dr']"
      ]
     },
     "execution_count": 1065,
     "metadata": {},
     "output_type": "execute_result"
    }
   ],
   "source": [
    "median_age_for_title_filtered.keys()"
   ]
  },
  {
   "cell_type": "code",
   "execution_count": 1066,
   "metadata": {},
   "outputs": [
    {
     "data": {
      "text/plain": [
       "array(['S', 'C', 'Q', nan], dtype=object)"
      ]
     },
     "execution_count": 1066,
     "metadata": {},
     "output_type": "execute_result"
    }
   ],
   "source": [
    "df_train['Embarked'].unique()"
   ]
  },
  {
   "cell_type": "code",
   "execution_count": 1067,
   "metadata": {},
   "outputs": [
    {
     "data": {
      "text/plain": [
       "array(['male', 'female'], dtype=object)"
      ]
     },
     "execution_count": 1067,
     "metadata": {},
     "output_type": "execute_result"
    }
   ],
   "source": [
    "df_train['Sex'].unique()"
   ]
  },
  {
   "cell_type": "code",
   "execution_count": 1068,
   "metadata": {},
   "outputs": [
    {
     "data": {
      "text/plain": [
       "array([nan, 'C85', 'C123', 'E46', 'G6', 'C103', 'D56', 'A6',\n",
       "       'C23 C25 C27', 'B78', 'D33', 'B30', 'C52', 'B28', 'C83', 'F33',\n",
       "       'F G73', 'E31', 'A5', 'D10 D12', 'D26', 'C110', 'B58 B60', 'E101',\n",
       "       'F E69', 'D47', 'B86', 'F2', 'C2', 'E33', 'B19', 'A7', 'C49', 'F4',\n",
       "       'A32', 'B4', 'B80', 'A31', 'D36', 'D15', 'C93', 'C78', 'D35',\n",
       "       'C87', 'B77', 'E67', 'B94', 'C125', 'C99', 'C118', 'D7', 'A19',\n",
       "       'B49', 'D', 'C22 C26', 'C106', 'C65', 'E36', 'C54',\n",
       "       'B57 B59 B63 B66', 'C7', 'E34', 'C32', 'B18', 'C124', 'C91', 'E40',\n",
       "       'T', 'C128', 'D37', 'B35', 'E50', 'C82', 'B96 B98', 'E10', 'E44',\n",
       "       'A34', 'C104', 'C111', 'C92', 'E38', 'D21', 'E12', 'E63', 'A14',\n",
       "       'B37', 'C30', 'D20', 'B79', 'E25', 'D46', 'B73', 'C95', 'B38',\n",
       "       'B39', 'B22', 'C86', 'C70', 'A16', 'C101', 'C68', 'A10', 'E68',\n",
       "       'B41', 'A20', 'D19', 'D50', 'D9', 'A23', 'B50', 'A26', 'D48',\n",
       "       'E58', 'C126', 'B71', 'B51 B53 B55', 'D49', 'B5', 'B20', 'F G63',\n",
       "       'C62 C64', 'E24', 'C90', 'C45', 'E8', 'B101', 'D45', 'C46', 'D30',\n",
       "       'E121', 'D11', 'E77', 'F38', 'B3', 'D6', 'B82 B84', 'D17', 'A36',\n",
       "       'B102', 'B69', 'E49', 'C47', 'D28', 'E17', 'A24', 'C50', 'B42',\n",
       "       'C148'], dtype=object)"
      ]
     },
     "execution_count": 1068,
     "metadata": {},
     "output_type": "execute_result"
    }
   ],
   "source": [
    "df_train['Cabin'].unique()"
   ]
  },
  {
   "cell_type": "code",
   "execution_count": 1081,
   "metadata": {},
   "outputs": [
    {
     "data": {
      "text/plain": [
       "C    59\n",
       "B    47\n",
       "D    33\n",
       "E    32\n",
       "A    15\n",
       "F    13\n",
       "G     4\n",
       "T     1\n",
       "Name: CabinId, dtype: int64"
      ]
     },
     "execution_count": 1081,
     "metadata": {},
     "output_type": "execute_result"
    }
   ],
   "source": [
    "df_train['CabinId'].value_counts()"
   ]
  },
  {
   "cell_type": "code",
   "execution_count": 1080,
   "metadata": {},
   "outputs": [
    {
     "data": {
      "text/plain": [
       "C    35\n",
       "B    18\n",
       "D    13\n",
       "E     9\n",
       "F     8\n",
       "A     7\n",
       "G     1\n",
       "Name: CabinId, dtype: int64"
      ]
     },
     "execution_count": 1080,
     "metadata": {},
     "output_type": "execute_result"
    }
   ],
   "source": [
    "df_test['CabinId'].value_counts()"
   ]
  },
  {
   "cell_type": "markdown",
   "metadata": {},
   "source": [
    "# Define helper functions\n",
    "This is not the best way. However its good enough to understand feature engineering."
   ]
  },
  {
   "cell_type": "code",
   "execution_count": 1071,
   "metadata": {},
   "outputs": [],
   "source": [
    "def one_hot_from_numeric(feature, max_dim, unknown_value_dim=0):\n",
    "    feature_vec = torch.zeros(max_dim + 1)\n",
    "    if feature is not None and not np.isnan(feature):\n",
    "        feature_vec[int(feature)+1] = 1\n",
    "    else:\n",
    "        feature_vec[unknown_value_dim] = 1\n",
    "    return feature_vec"
   ]
  },
  {
   "cell_type": "code",
   "execution_count": 1072,
   "metadata": {},
   "outputs": [],
   "source": [
    "def one_hot_from_cat(feature, val_list= ['S', 'C', 'Q']):\n",
    "    max_dim = len(val_list)\n",
    "    feature_vec = torch.zeros(max_dim + 1)\n",
    "    if feature is None:\n",
    "        feature_vec[0] = 1\n",
    "    else:\n",
    "        for i in range(len(val_list)):\n",
    "            if feature == val_list[i]:\n",
    "                feature_vec[i+1] = 1\n",
    "    return feature_vec"
   ]
  },
  {
   "cell_type": "code",
   "execution_count": 1073,
   "metadata": {},
   "outputs": [],
   "source": [
    "def real_feature(val, default_val=None):\n",
    "    feature_vec = torch.zeros(1)\n",
    "    if val is not None and not np.isnan(val):\n",
    "        feature_vec[0] = val\n",
    "    elif default_val is not None:\n",
    "        feature_vec[0] = default_val\n",
    "    return feature_vec"
   ]
  },
  {
   "cell_type": "code",
   "execution_count": 1074,
   "metadata": {},
   "outputs": [
    {
     "data": {
      "text/plain": [
       "tensor([0., 0., 1., 0.])"
      ]
     },
     "execution_count": 1074,
     "metadata": {},
     "output_type": "execute_result"
    }
   ],
   "source": [
    "one_hot_from_cat(df_train.iloc[1]['Embarked'], ['S', 'C', 'Q'])"
   ]
  },
  {
   "cell_type": "code",
   "execution_count": 1075,
   "metadata": {},
   "outputs": [
    {
     "data": {
      "text/plain": [
       "tensor([0., 0., 0., 0., 0., 0., 0., 0., 0., 0., 0., 0., 0., 0., 0., 0., 0., 0.,\n",
       "        0., 0., 0., 0., 0., 0., 0., 0., 0., 0., 0., 0., 0., 0., 0., 0., 0., 0.,\n",
       "        0., 0., 0., 0., 0., 0., 0., 0., 0., 0., 0., 0., 0., 0., 0., 1., 0., 0.,\n",
       "        0., 0., 0., 0., 0., 0., 0., 0., 0., 0., 0., 0., 0., 0., 0., 0., 0., 0.,\n",
       "        0., 0., 0., 0., 0., 0., 0., 0., 0.])"
      ]
     },
     "execution_count": 1075,
     "metadata": {},
     "output_type": "execute_result"
    }
   ],
   "source": [
    "one_hot_from_numeric(50, 80)"
   ]
  },
  {
   "cell_type": "code",
   "execution_count": 1078,
   "metadata": {},
   "outputs": [
    {
     "data": {
      "text/plain": [
       "tensor([0., 0., 0., 1., 0., 0., 0.])"
      ]
     },
     "execution_count": 1078,
     "metadata": {},
     "output_type": "execute_result"
    }
   ],
   "source": [
    "one_hot_from_cat(df_train.iloc[1]['Title'], median_age_for_title_filtered.keys())"
   ]
  },
  {
   "cell_type": "code",
   "execution_count": 1196,
   "metadata": {},
   "outputs": [
    {
     "data": {
      "text/plain": [
       "tensor([0., 0., 0., 1., 0., 0., 0., 0.])"
      ]
     },
     "execution_count": 1196,
     "metadata": {},
     "output_type": "execute_result"
    }
   ],
   "source": [
    "one_hot_from_cat(df_train.iloc[1]['CabinId'], ['A', 'B', 'C', 'D', 'E', 'F', 'G'])"
   ]
  },
  {
   "cell_type": "markdown",
   "metadata": {},
   "source": [
    "# Implement feture parser and dataloader\n",
    "In this section we define the feature parsing logic and also\n",
    "write the logic for dataset creation. We can reuse these parametrized\n",
    "functions for ablation studies or hyperparam tuning"
   ]
  },
  {
   "cell_type": "code",
   "execution_count": 1207,
   "metadata": {},
   "outputs": [],
   "source": [
    "def get_featurized_data(row, extractLabel=True, featureList = {'Embarked', 'Sex', 'Age', 'SibSp', 'Parch', 'CabinId', 'Title', 'Fare'}):\n",
    "    features = []\n",
    "    if 'Embarked' in featureList:\n",
    "        features.append(one_hot_from_cat(row['Embarked'], ['S', 'C', 'Q']))\n",
    "    if 'Sex' in featureList:\n",
    "        features.append(one_hot_from_cat(row['Sex'], ['male', 'female']))\n",
    "    if 'Age' in featureList:\n",
    "        features.append(one_hot_from_numeric(row['Age'], 81))\n",
    "    if 'SibSp' in featureList:\n",
    "        features.append(real_feature(row['SibSp']))\n",
    "    if 'Parch' in featureList:\n",
    "        features.append(real_feature(row['Parch']))\n",
    "    if 'Title' in featureList:\n",
    "        features.append(one_hot_from_cat(row['Title'], median_age_for_title_filtered.keys()))\n",
    "    if 'CabinId' in featureList:\n",
    "        features.append(one_hot_from_cat(row['CabinId'], ['A', 'B', 'C', 'D', 'E', 'F', 'G']))\n",
    "    if 'Fare' in featureList:\n",
    "        features.append(real_feature(row['Fare']))\n",
    "    Y = None\n",
    "    if extractLabel:\n",
    "        Y = real_feature(int(row['Survived']))\n",
    "    X = torch.cat(features)\n",
    "    return row['PassengerId'], X, Y"
   ]
  },
  {
   "cell_type": "code",
   "execution_count": 1208,
   "metadata": {},
   "outputs": [],
   "source": [
    "def get_train_and_validation_set(df_train, bs=128, train_frac=0.9, featureList = {'Embarked', 'Sex', 'Age', 'SibSp', 'Parch', 'CabinId', 'Title', 'Fare'}):\n",
    "    df_train = shuffle(df_train)\n",
    "    passenger_ids = []\n",
    "    X_train = []\n",
    "    Y_train = []\n",
    "    for idx, row in df_train.iterrows():\n",
    "        pid, X_row, Y_row = get_featurized_data(row, True, featureList)\n",
    "        X_train.append(X_row)\n",
    "        Y_train.append(Y_row)\n",
    "        passenger_ids.append(pid)\n",
    "        \n",
    "    num_samples = len(X_train)\n",
    "    num_features = X_train[0].shape[0]\n",
    "    print (\"Num_samples = {}, Num_features = {} from training csv\".format(num_samples, num_features))\n",
    "\n",
    "    split_point = int(train_frac*num_training_rows)\n",
    "    tensor_x_train = torch.stack(X_train[:split_point]) # transform to torch tensors\n",
    "    tensor_y_train = torch.stack(Y_train[:split_point])\n",
    "\n",
    "    train_dataset = TensorDataset(tensor_x_train,tensor_y_train) # create your datset\n",
    "    train_dataloader = DataLoader(train_dataset, batch_size=bs)\n",
    "    #len(train_dataset)) # create your dataloader\n",
    "\n",
    "    print (\"split point is : {}\".format(split_point))\n",
    "\n",
    "    tensor_x_valid = torch.stack(X_train[split_point:]) # transform to torch tensors\n",
    "    tensor_y_valid = torch.stack(Y_train[split_point:])\n",
    "\n",
    "    validation_dataset = TensorDataset(tensor_x_valid,tensor_y_valid) # create your datset\n",
    "    validation_dataloader = DataLoader(validation_dataset)\n",
    "    return train_dataloader, validation_dataloader, num_features, featureList"
   ]
  },
  {
   "cell_type": "code",
   "execution_count": 1209,
   "metadata": {},
   "outputs": [
    {
     "name": "stdout",
     "output_type": "stream",
     "text": [
      "Num_samples = 891, Num_features = 107 from training csv\n",
      "split point is : 801\n"
     ]
    }
   ],
   "source": [
    "featureSet = {'Embarked', 'Sex', 'Age', 'SibSp', 'Parch', 'CabinId', 'Title', 'Fare'}\n",
    "#, 'Sex', 'Age', 'SibSp', 'Parch', 'CabinId', 'Title', 'Fare'}\n",
    "train_dataloader, validation_dataloader, num_features, featureList = get_train_and_validation_set(df_train, 128, 0.9, featureSet)"
   ]
  },
  {
   "cell_type": "code",
   "execution_count": 1200,
   "metadata": {},
   "outputs": [
    {
     "name": "stdout",
     "output_type": "stream",
     "text": [
      "There are 801 data-points in training set \n",
      "There are 90 data-points in validation set \n"
     ]
    }
   ],
   "source": [
    "print (\"There are {} data-points in training set \".format(len(train_dataset)))\n",
    "print (\"There are {} data-points in validation set \".format(len(validation_dataset)))"
   ]
  },
  {
   "cell_type": "markdown",
   "metadata": {},
   "source": [
    "# SimpleNN\n",
    "Lets pass titanic dataset through a simple neural network and see the result\n",
    "We will give a list as argument to specify the number and size of hidden layers"
   ]
  },
  {
   "cell_type": "code",
   "execution_count": 1201,
   "metadata": {},
   "outputs": [],
   "source": [
    "class SimpleNN(nn.Module):\n",
    "    def __init__(self, X_in=91):\n",
    "        super(SimpleNN, self).__init__()\n",
    "        self.lin1 = nn.Linear(X_in, 32)\n",
    "        self.lin2 = nn.Linear(32, 16)\n",
    "        self.lin3 = nn.Linear(16, 8)\n",
    "        self.lin4 = nn.Linear(8, 4)\n",
    "        self.final_layer = nn.Linear(4, 1)\n",
    "        self.out_act = nn.Sigmoid()\n",
    "        \n",
    "    def forward(self, X):\n",
    "        X = self.lin1(X)\n",
    "        X = F.relu(X)\n",
    "        X = self.lin2(X)\n",
    "        X = F.relu(X)\n",
    "        X = self.lin3(X)\n",
    "        X = F.relu(X)\n",
    "        X = self.lin4(X)\n",
    "        X = F.relu(X)\n",
    "        X = self.final_layer(X)\n",
    "        return self.out_act(X)"
   ]
  },
  {
   "cell_type": "markdown",
   "metadata": {},
   "source": [
    "# Model training functions\n",
    "We define a few helper functions for model training and computing performance."
   ]
  },
  {
   "cell_type": "code",
   "execution_count": 1202,
   "metadata": {},
   "outputs": [],
   "source": [
    "def get_accuracy(model, dataloader):\n",
    "    correct, tot = 0 , 0\n",
    "    for xb, yb in dataloader:\n",
    "        #validation_dataloader:\n",
    "        yb_pred = (model(xb) > 0.5)\n",
    "        tot += len(xb)\n",
    "        correct += (yb_pred.float() == yb).float().sum()\n",
    "    return correct, tot"
   ]
  },
  {
   "cell_type": "code",
   "execution_count": 1203,
   "metadata": {},
   "outputs": [],
   "source": [
    "def loss_batch(model, loss_func, xb, yb, opt=None):\n",
    "    loss = loss_func(model(xb), yb)\n",
    "    \n",
    "    if opt is not None:\n",
    "        loss.backward()\n",
    "        opt.step()\n",
    "        opt.zero_grad()\n",
    "    \n",
    "    return loss.sum(), len(xb)"
   ]
  },
  {
   "cell_type": "code",
   "execution_count": 1204,
   "metadata": {},
   "outputs": [],
   "source": [
    "def fitModel(model, criterion, optimizer, train_dl, valid_dl, epochs):\n",
    "    train_loss = []\n",
    "    train_acc = []\n",
    "    valid_loss = []\n",
    "    valid_acc = []\n",
    "    for epoch in range(epochs):\n",
    "        model.train()\n",
    "        losses, nums = zip(*[loss_batch(model, criterion, xb, yb, optimizer) for xb, yb in train_dl])\n",
    "        cur_train_loss = (np.sum(np.multiply(losses, nums)) / np.sum(nums)).item()\n",
    "\n",
    "        model.eval()\n",
    "        train_loss.append(cur_train_loss)\n",
    "        train_correct, train_tot = get_accuracy(model, train_dl)\n",
    "        cur_train_acc = (train_correct / float(train_tot)).item()\n",
    "        train_acc.append(cur_train_acc)\n",
    "\n",
    "        val_loss = np.sum(np.multiply(losses, nums)) / np.sum(nums)        \n",
    "        with torch.no_grad():\n",
    "            losses, nums = zip(*[loss_batch(model, criterion, xb, yb) for xb, yb in valid_dl])\n",
    "            cur_val_loss = (np.sum(np.multiply(losses, nums)) / np.sum(nums)).item()\n",
    "            valid_loss.append(cur_val_loss)\n",
    "            valid_correct, valid_tot = get_accuracy(model, valid_dl)\n",
    "            cur_valid_acc = (valid_correct / float(valid_tot)).item()\n",
    "            valid_acc.append(cur_valid_acc)\n",
    "            print(epoch, cur_train_loss, cur_train_acc, cur_val_loss, cur_valid_acc)\n",
    "    return train_loss, train_acc, valid_loss, valid_acc"
   ]
  },
  {
   "cell_type": "markdown",
   "metadata": {},
   "source": [
    "# Util function for iteration\n",
    "We define a helper funtion that can help with grid search as we parametrize\n",
    "a lot of things including batch-size. In general accuracy above 80% is considered\n",
    "good for this dataset"
   ]
  },
  {
   "cell_type": "code",
   "execution_count": 1265,
   "metadata": {
    "scrolled": true
   },
   "outputs": [],
   "source": [
    "def gen_dataset_and_train_model(batch_size=128, train_frac=0.9, num_epochs = 100, featureList = {'Embarked', 'Sex', 'Age', 'SibSp', 'Parch', 'CabinId', 'Title'}):\n",
    "    train_dataloader, validation_dataloader, num_features, featureList = get_train_and_validation_set(df_train, batch_size, train_frac, featureList)\n",
    "    model = SimpleNN(num_features)\n",
    "    optimizer = optim.Adam(model.parameters(), lr=0.0005, betas=(0.9, 0.999))\n",
    "    train_loss, train_acc, valid_loss, valid_acc = fitModel(model, nn.BCELoss(), optimizer, train_dataloader, validation_dataloader, num_epochs)\n",
    "    return model, train_loss, train_acc, valid_loss, valid_acc, train_dataloader, validation_dataloader\n",
    "    "
   ]
  },
  {
   "cell_type": "markdown",
   "metadata": {},
   "source": [
    "# Run an AA test\n",
    "Presuming you have a stable setup of hyperparameters, we call our util function 3 times\n",
    "so that you can get an AA comparison or an ABC comparison. If the accuracy, loss curves, behavior\n",
    "are close enough, we are good. For this dataset a 2-3% difference in accuracy is reasonable."
   ]
  },
  {
   "cell_type": "code",
   "execution_count": 1270,
   "metadata": {
    "scrolled": false
   },
   "outputs": [
    {
     "name": "stdout",
     "output_type": "stream",
     "text": [
      "Num_samples = 891, Num_features = 107 from training csv\n",
      "split point is : 712\n",
      "(0, 0.7118441462516785, 0.35252809524536133, 0.6849689347117973, 0.5083798766136169)\n",
      "(1, 0.7060521245002747, 0.35252809524536133, 0.6864068491498851, 0.5083798766136169)\n",
      "(2, 0.7015079855918884, 0.3567415773868561, 0.6907901913760095, 0.5139665007591248)\n",
      "(3, 0.6981799602508545, 0.425561785697937, 0.6930610753970439, 0.5251396894454956)\n",
      "(4, 0.6949304342269897, 0.4325842559337616, 0.6890316622217274, 0.5586591958999634)\n",
      "(5, 0.691350519657135, 0.5786516666412354, 0.6839815218355403, 0.6368715167045593)\n",
      "(6, 0.6877049803733826, 0.7022472023963928, 0.6816066133909385, 0.6480447053909302)\n",
      "(7, 0.6837499141693115, 0.7120786309242249, 0.6813438441500318, 0.6480447053909302)\n",
      "(8, 0.6793561577796936, 0.7036516666412354, 0.6816175047245772, 0.6256983280181885)\n",
      "(9, 0.6746853590011597, 0.7036516666412354, 0.6790999850081332, 0.6201117038726807)\n",
      "(10, 0.6697677373886108, 0.7022472023963928, 0.6769826668600797, 0.6145251393318176)\n",
      "(11, 0.6644145250320435, 0.6952247023582458, 0.6749990908793231, 0.5921787619590759)\n",
      "(12, 0.658407986164093, 0.6952247023582458, 0.6710841732318175, 0.6089385747909546)\n",
      "(13, 0.6519240736961365, 0.6952247023582458, 0.6678167426719346, 0.5977653861045837)\n",
      "(14, 0.6450514793395996, 0.6952247023582458, 0.6663991823875705, 0.575419008731842)\n",
      "(15, 0.6376832127571106, 0.6966292262077332, 0.6619947978904127, 0.5865921974182129)\n",
      "(16, 0.6298477649688721, 0.7064606547355652, 0.6532423279804891, 0.6145251393318176)\n",
      "(17, 0.6215988397598267, 0.7036516666412354, 0.6505124792040393, 0.6033519506454468)\n",
      "(18, 0.6128662824630737, 0.7064606547355652, 0.6451955657431533, 0.6145251393318176)\n",
      "(19, 0.6036615967750549, 0.7120786309242249, 0.6383688692940014, 0.6256983280181885)\n",
      "(20, 0.5939396619796753, 0.709269642829895, 0.6349582295844008, 0.6145251393318176)\n",
      "(21, 0.5835946202278137, 0.716292142868042, 0.6279398110492269, 0.6312848925590515)\n",
      "(22, 0.572796106338501, 0.7120786309242249, 0.6270769641386064, 0.6145251393318176)\n",
      "(23, 0.5614389181137085, 0.726123571395874, 0.6140150494415667, 0.6312848925590515)\n",
      "(24, 0.5498766303062439, 0.726123571395874, 0.6106467756479146, 0.6312848925590515)\n",
      "(25, 0.5387561917304993, 0.7303370833396912, 0.6036021931294623, 0.6424580812454224)\n",
      "(26, 0.5282523036003113, 0.7373595237731934, 0.5993374299320429, 0.6480447053909302)\n",
      "(27, 0.5190615057945251, 0.7485954761505127, 0.593434680856806, 0.6536312699317932)\n",
      "(28, 0.5108898282051086, 0.7542135119438171, 0.5884682834148407, 0.6536312699317932)\n",
      "(29, 0.5036806464195251, 0.7696629166603088, 0.5857986152671569, 0.6536312699317932)\n",
      "(30, 0.4971316158771515, 0.7808988690376282, 0.5810008732050491, 0.6536312699317932)\n",
      "(31, 0.49161580204963684, 0.7851123809814453, 0.5765386614636336, 0.6759776473045349)\n",
      "(32, 0.4869373142719269, 0.7963483333587646, 0.5759917891704004, 0.6703910827636719)\n",
      "(33, 0.48302027583122253, 0.8103932738304138, 0.5745095946623127, 0.7039105892181396)\n",
      "(34, 0.47954174876213074, 0.8117977380752563, 0.5710374382870823, 0.7262569665908813)\n",
      "(35, 0.4767836332321167, 0.8202247023582458, 0.5787295190898399, 0.7206704020500183)\n",
      "(36, 0.47520318627357483, 0.8216292262077332, 0.5816570731483441, 0.7206704020500183)\n",
      "(37, 0.47184067964553833, 0.8286516666412354, 0.5806518006424665, 0.7206704020500183)\n",
      "(38, 0.46992257237434387, 0.8258426785469055, 0.5773415120380967, 0.7318435907363892)\n",
      "(39, 0.46747589111328125, 0.8272472023963928, 0.5764637196478147, 0.7262569665908813)\n",
      "(40, 0.46626782417297363, 0.8286516666412354, 0.5780369937471921, 0.7318435907363892)\n",
      "(41, 0.4640275239944458, 0.8286516666412354, 0.5710790800398955, 0.74301677942276)\n",
      "(42, 0.4631091356277466, 0.8314606547355652, 0.5738914668476781, 0.7318435907363892)\n",
      "(43, 0.46154630184173584, 0.8328651785850525, 0.5741052479124186, 0.7318435907363892)\n",
      "(44, 0.45987728238105774, 0.834269642829895, 0.5713289688762756, 0.7374301552772522)\n",
      "(45, 0.45866158604621887, 0.834269642829895, 0.5703899463399329, 0.7374301552772522)\n",
      "(46, 0.4573541581630707, 0.8370786309242249, 0.5701341262534677, 0.7374301552772522)\n",
      "(47, 0.45608001947402954, 0.8370786309242249, 0.570153943216168, 0.7318435907363892)\n",
      "(48, 0.4546906650066376, 0.8356741666793823, 0.5687084853513863, 0.7318435907363892)\n",
      "(49, 0.4534863531589508, 0.8370786309242249, 0.568635216261151, 0.7318435907363892)\n",
      "(50, 0.45221570134162903, 0.8384831547737122, 0.5672851908879157, 0.7318435907363892)\n",
      "(51, 0.45096537470817566, 0.8398876190185547, 0.5665332953622513, 0.7318435907363892)\n",
      "(52, 0.4498315453529358, 0.841292142868042, 0.5663145059672855, 0.7318435907363892)\n",
      "(53, 0.44855499267578125, 0.841292142868042, 0.5650487213536015, 0.7318435907363892)\n",
      "(54, 0.44740089774131775, 0.8426966071128845, 0.5642761148866162, 0.7318435907363892)\n",
      "(55, 0.4462890923023224, 0.8441011309623718, 0.5641683398735549, 0.7374301552772522)\n",
      "(56, 0.44512978196144104, 0.8441011309623718, 0.5637250735773055, 0.7374301552772522)\n",
      "(57, 0.4439913332462311, 0.8441011309623718, 0.5629064497491084, 0.7374301552772522)\n",
      "(58, 0.4428936839103699, 0.8441011309623718, 0.5636499355073664, 0.7374301552772522)\n",
      "(59, 0.4418947100639343, 0.8441011309623718, 0.5643476599556857, 0.74301677942276)\n",
      "(60, 0.4405953884124756, 0.8426966071128845, 0.5635430949698489, 0.74301677942276)\n",
      "(61, 0.4397062361240387, 0.8426966071128845, 0.563005065241069, 0.74301677942276)\n",
      "(62, 0.4383820593357086, 0.8441011309623718, 0.5611301568289958, 0.74301677942276)\n",
      "(63, 0.43767842650413513, 0.8441011309623718, 0.5623400793957144, 0.74301677942276)\n",
      "(64, 0.43634650111198425, 0.8455055952072144, 0.560583221598648, 0.748603343963623)\n",
      "(65, 0.43550464510917664, 0.8455055952072144, 0.561696326699597, 0.748603343963623)\n",
      "(66, 0.43436962366104126, 0.8455055952072144, 0.5601080957313677, 0.748603343963623)\n",
      "(67, 0.43338483572006226, 0.8469101190567017, 0.5597561416593406, 0.748603343963623)\n",
      "(68, 0.4325188994407654, 0.8469101190567017, 0.5605614856119637, 0.748603343963623)\n",
      "(69, 0.4313856065273285, 0.8497191071510315, 0.5592742473571223, 0.748603343963623)\n",
      "(70, 0.4305185377597809, 0.8483145833015442, 0.5595763575223238, 0.748603343963623)\n",
      "(71, 0.4295080900192261, 0.8483145833015442, 0.559078412212421, 0.748603343963623)\n",
      "(72, 0.4286476671695709, 0.8497191071510315, 0.5600214247011668, 0.7374301552772522)\n",
      "(73, 0.42768481373786926, 0.8497191071510315, 0.5612394560008783, 0.74301677942276)\n",
      "(74, 0.4265267550945282, 0.851123571395874, 0.5571934392860461, 0.748603343963623)\n",
      "(75, 0.42595362663269043, 0.851123571395874, 0.5588908691060672, 0.74301677942276)\n",
      "(76, 0.42485758662223816, 0.8553370833396912, 0.5575782437613702, 0.74301677942276)\n",
      "(77, 0.4242125451564789, 0.8553370833396912, 0.5619665134578485, 0.7374301552772522)\n",
      "(78, 0.42289647459983826, 0.858146071434021, 0.554175463246244, 0.7541899681091309)\n",
      "(79, 0.42274630069732666, 0.8567415475845337, 0.5606304956483005, 0.7318435907363892)\n",
      "(80, 0.42143896222114563, 0.8567415475845337, 0.556375147199893, 0.7541899681091309)\n",
      "(81, 0.42098763585090637, 0.858146071434021, 0.5597093991789571, 0.74301677942276)\n",
      "(82, 0.4201449155807495, 0.858146071434021, 0.5627790510045708, 0.74301677942276)\n",
      "(83, 0.4191717803478241, 0.858146071434021, 0.560477753074231, 0.74301677942276)\n",
      "(84, 0.4183923900127411, 0.8609550595283508, 0.5590413811411085, 0.748603343963623)\n",
      "(85, 0.41765037178993225, 0.8609550595283508, 0.559100609134841, 0.748603343963623)\n",
      "(86, 0.4169747531414032, 0.8609550595283508, 0.5596235258154852, 0.748603343963623)\n",
      "(87, 0.41621914505958557, 0.8623595237731934, 0.5596544018760584, 0.748603343963623)\n",
      "(88, 0.4155324101448059, 0.8623595237731934, 0.5606399078270702, 0.748603343963623)\n",
      "(89, 0.4147736132144928, 0.8637640476226807, 0.560132036055178, 0.748603343963623)\n",
      "(90, 0.41409212350845337, 0.8651685118675232, 0.561182331810211, 0.748603343963623)\n",
      "(91, 0.4134212136268616, 0.8651685118675232, 0.5613314611440545, 0.748603343963623)\n",
      "(92, 0.4127110540866852, 0.8651685118675232, 0.5619795708221191, 0.748603343963623)\n",
      "(93, 0.41206738352775574, 0.8651685118675232, 0.5625608220069498, 0.748603343963623)\n",
      "(94, 0.41133031249046326, 0.8637640476226807, 0.5631861036744843, 0.74301677942276)\n",
      "(95, 0.41068294644355774, 0.8651685118675232, 0.5633590029651434, 0.748603343963623)\n",
      "(96, 0.41003772616386414, 0.8623595237731934, 0.5641163870986218, 0.74301677942276)\n"
     ]
    },
    {
     "name": "stdout",
     "output_type": "stream",
     "text": [
      "(97, 0.4093382656574249, 0.8623595237731934, 0.5649627835818894, 0.74301677942276)\n",
      "(98, 0.4086359739303589, 0.8637640476226807, 0.5651699579567987, 0.74301677942276)\n",
      "(99, 0.4079171121120453, 0.8651685118675232, 0.5653920645874992, 0.74301677942276)\n",
      "(100, 0.4073235094547272, 0.8637640476226807, 0.566028501762353, 0.74301677942276)\n",
      "(101, 0.4065803289413452, 0.8651685118675232, 0.5662982298962658, 0.7374301552772522)\n",
      "(102, 0.4059828817844391, 0.8637640476226807, 0.5664984108236301, 0.7374301552772522)\n",
      "(103, 0.4052378535270691, 0.8651685118675232, 0.5669916403020067, 0.7374301552772522)\n",
      "(104, 0.40463322401046753, 0.867977499961853, 0.5664083451496349, 0.7374301552772522)\n",
      "(105, 0.4038727283477783, 0.8665730357170105, 0.5661079733656569, 0.7374301552772522)\n",
      "(106, 0.4034501910209656, 0.867977499961853, 0.5684061699944246, 0.7374301552772522)\n",
      "(107, 0.4025614559650421, 0.867977499961853, 0.5667870791746673, 0.7374301552772522)\n",
      "(108, 0.4020020663738251, 0.8693820238113403, 0.567353083449676, 0.7374301552772522)\n",
      "(109, 0.4013042151927948, 0.8707864880561829, 0.5673077149399915, 0.7374301552772522)\n",
      "(110, 0.400733083486557, 0.8693820238113403, 0.5678400435857605, 0.7374301552772522)\n",
      "(111, 0.39997148513793945, 0.8693820238113403, 0.5673134848514478, 0.7374301552772522)\n",
      "(112, 0.399404376745224, 0.8707864880561829, 0.5656514663760441, 0.74301677942276)\n",
      "(113, 0.399131178855896, 0.8707864880561829, 0.5644359001987379, 0.74301677942276)\n",
      "(114, 0.39846232533454895, 0.867977499961853, 0.5709496273866637, 0.7374301552772522)\n",
      "(115, 0.39750736951828003, 0.8707864880561829, 0.5662368593260115, 0.74301677942276)\n",
      "(116, 0.39717692136764526, 0.8721910119056702, 0.5651390731647512, 0.74301677942276)\n",
      "(117, 0.3965887725353241, 0.8693820238113403, 0.5683003185923711, 0.7374301552772522)\n",
      "(118, 0.3956477642059326, 0.8693820238113403, 0.5683393759783696, 0.7374301552772522)\n",
      "(119, 0.3953269422054291, 0.8721910119056702, 0.5652659290516359, 0.748603343963623)\n",
      "(120, 0.3946676254272461, 0.8707864880561829, 0.5707093201309063, 0.7374301552772522)\n",
      "(121, 0.3938615024089813, 0.8721910119056702, 0.5610441287739499, 0.7597765326499939)\n",
      "(122, 0.3938262462615967, 0.8735954761505127, 0.5704892918242496, 0.7374301552772522)\n",
      "(123, 0.3929738700389862, 0.8721910119056702, 0.5622319147100038, 0.7541899681091309)\n",
      "(124, 0.39262959361076355, 0.8735954761505127, 0.5654368202791252, 0.748603343963623)\n",
      "(125, 0.39311739802360535, 0.875, 0.5730653776954365, 0.7374301552772522)\n",
      "(126, 0.39064887166023254, 0.8721910119056702, 0.562895937298565, 0.7541899681091309)\n",
      "(127, 0.391156405210495, 0.8721910119056702, 0.5698843995797287, 0.7374301552772522)\n",
      "(128, 0.3897266685962677, 0.8707864880561829, 0.5684424502968232, 0.74301677942276)\n",
      "(129, 0.3890998363494873, 0.8721910119056702, 0.5677999828678072, 0.74301677942276)\n",
      "(130, 0.38878491520881653, 0.8735954761505127, 0.5667452593451084, 0.748603343963623)\n",
      "(131, 0.38804128766059875, 0.8735954761505127, 0.5700860035029506, 0.74301677942276)\n",
      "(132, 0.38743123412132263, 0.875, 0.5649314878896066, 0.7597765326499939)\n",
      "(133, 0.3868822157382965, 0.8735954761505127, 0.5703889812240716, 0.74301677942276)\n",
      "(134, 0.38622596859931946, 0.8764045238494873, 0.5634950494521178, 0.7597765326499939)\n",
      "(135, 0.3859271705150604, 0.8764045238494873, 0.5662685526484836, 0.7541899681091309)\n",
      "(136, 0.3862508237361908, 0.8735954761505127, 0.5731651512416556, 0.7374301552772522)\n",
      "(137, 0.38412025570869446, 0.8764045238494873, 0.5688648326467143, 0.748603343963623)\n",
      "(138, 0.3846677839756012, 0.8764045238494873, 0.5698589998173499, 0.748603343963623)\n",
      "(139, 0.38305899500846863, 0.8778089880943298, 0.5700441881230259, 0.748603343963623)\n",
      "(140, 0.3826446235179901, 0.8778089880943298, 0.5632119845584628, 0.7653631567955017)\n",
      "(141, 0.38229334354400635, 0.8778089880943298, 0.5686107158520085, 0.7541899681091309)\n",
      "(142, 0.3818032443523407, 0.8806179761886597, 0.5660326292087303, 0.7653631567955017)\n",
      "(143, 0.3809308707714081, 0.882022500038147, 0.5666578257010597, 0.7597765326499939)\n",
      "(144, 0.3815549910068512, 0.8778089880943298, 0.5728470493519715, 0.7541899681091309)\n",
      "(145, 0.3793312609195709, 0.882022500038147, 0.5667148560954468, 0.7709497213363647)\n",
      "(146, 0.38007882237434387, 0.8806179761886597, 0.5725551618981128, 0.7541899681091309)\n",
      "(147, 0.37850430607795715, 0.882022500038147, 0.5669113359213729, 0.7709497213363647)\n",
      "(148, 0.37810182571411133, 0.882022500038147, 0.5685049205523846, 0.7709497213363647)\n",
      "(149, 0.37754225730895996, 0.8806179761886597, 0.5681903204537913, 0.7709497213363647)\n",
      "(150, 0.3768151104450226, 0.8806179761886597, 0.5703672568964793, 0.7653631567955017)\n",
      "(151, 0.3762021064758301, 0.882022500038147, 0.5681343291336267, 0.7709497213363647)\n",
      "(152, 0.3755757212638855, 0.8806179761886597, 0.5712137705771325, 0.7653631567955017)\n",
      "(153, 0.37489834427833557, 0.8806179761886597, 0.5694707106106573, 0.7709497213363647)\n",
      "(154, 0.37431514263153076, 0.882022500038147, 0.5681338885987006, 0.7709497213363647)\n",
      "(155, 0.3739311993122101, 0.8806179761886597, 0.5723483022707241, 0.7709497213363647)\n",
      "(156, 0.37333983182907104, 0.882022500038147, 0.5688867619605514, 0.7709497213363647)\n",
      "(157, 0.3724483251571655, 0.882022500038147, 0.5701353710790896, 0.7709497213363647)\n",
      "(158, 0.37267154455184937, 0.882022500038147, 0.5710809843838422, 0.7709497213363647)\n",
      "(159, 0.3711071312427521, 0.8834269642829895, 0.5683024065730333, 0.7709497213363647)\n",
      "(160, 0.3716723322868347, 0.882022500038147, 0.5729665916535662, 0.7709497213363647)\n",
      "(161, 0.36980029940605164, 0.882022500038147, 0.5686286673186849, 0.7709497213363647)\n",
      "(162, 0.37039950489997864, 0.8834269642829895, 0.5729983344327141, 0.7709497213363647)\n",
      "(163, 0.3686773180961609, 0.8834269642829895, 0.5669632717356016, 0.7709497213363647)\n",
      "(164, 0.36888667941093445, 0.8834269642829895, 0.5703591447903686, 0.7709497213363647)\n",
      "(165, 0.3678448796272278, 0.8834269642829895, 0.5705438391838805, 0.7709497213363647)\n",
      "(166, 0.3677864372730255, 0.8834269642829895, 0.5697686008336061, 0.7709497213363647)\n",
      "(167, 0.36677491664886475, 0.8834269642829895, 0.5735369829490082, 0.7709497213363647)\n",
      "(168, 0.3672667443752289, 0.8834269642829895, 0.5737410576954906, 0.7709497213363647)\n",
      "(169, 0.3653373420238495, 0.8862359523773193, 0.5696239448258167, 0.7709497213363647)\n",
      "(170, 0.36627042293548584, 0.8848314881324768, 0.5759877509104352, 0.7709497213363647)\n",
      "(171, 0.36401134729385376, 0.8876404762268066, 0.5692070179742302, 0.7765362858772278)\n",
      "(172, 0.36482834815979004, 0.8848314881324768, 0.576229510800074, 0.7709497213363647)\n",
      "(173, 0.36294400691986084, 0.8862359523773193, 0.5693146230952258, 0.7653631567955017)\n",
      "(174, 0.36360493302345276, 0.8876404762268066, 0.5735806570251475, 0.7653631567955017)\n",
      "(175, 0.3620208203792572, 0.8862359523773193, 0.5727135851669032, 0.7653631567955017)\n",
      "(176, 0.3624005615711212, 0.8862359523773193, 0.5734541372110867, 0.7653631567955017)\n",
      "(177, 0.3610617518424988, 0.8876404762268066, 0.57556386536144, 0.7653631567955017)\n",
      "(178, 0.3614588677883148, 0.8876404762268066, 0.5764283197988039, 0.7653631567955017)\n",
      "(179, 0.3597741723060608, 0.8862359523773193, 0.5742898250866764, 0.7653631567955017)\n",
      "(180, 0.36035987734794617, 0.8876404762268066, 0.5790855124881056, 0.7597765326499939)\n",
      "(181, 0.35847148299217224, 0.8862359523773193, 0.57598292964256, 0.7653631567955017)\n",
      "(182, 0.3590520918369293, 0.8862359523773193, 0.5758765561097398, 0.7653631567955017)\n",
      "(183, 0.3577134609222412, 0.8876404762268066, 0.578424796569857, 0.7597765326499939)\n",
      "(184, 0.35826465487480164, 0.8862359523773193, 0.5794818016364534, 0.7597765326499939)\n",
      "(185, 0.356460839509964, 0.8848314881324768, 0.5762847319239485, 0.7597765326499939)\n",
      "(186, 0.3573451638221741, 0.8890449404716492, 0.5824249263348151, 0.7597765326499939)\n",
      "(187, 0.35521137714385986, 0.8848314881324768, 0.5771931004251175, 0.7765362858772278)\n",
      "(188, 0.3560201823711395, 0.8862359523773193, 0.5796998448136774, 0.7653631567955017)\n",
      "(189, 0.3544144928455353, 0.8862359523773193, 0.5795883710805702, 0.7653631567955017)\n",
      "(190, 0.3549773097038269, 0.8862359523773193, 0.5804416443753838, 0.7653631567955017)\n",
      "(191, 0.35337087512016296, 0.8848314881324768, 0.5801353062306386, 0.7765362858772278)\n",
      "(192, 0.3539872467517853, 0.8848314881324768, 0.5803369096034892, 0.7765362858772278)\n"
     ]
    },
    {
     "name": "stdout",
     "output_type": "stream",
     "text": [
      "(193, 0.3524095416069031, 0.8848314881324768, 0.5809712646733618, 0.7765362858772278)\n",
      "(194, 0.353030800819397, 0.8848314881324768, 0.5818897675473748, 0.7765362858772278)\n",
      "(195, 0.3512650430202484, 0.8848314881324768, 0.5813968694713078, 0.7765362858772278)\n",
      "(196, 0.35200098156929016, 0.8848314881324768, 0.583849601698054, 0.7765362858772278)\n",
      "(197, 0.35008326172828674, 0.8862359523773193, 0.5843437340576934, 0.7765362858772278)\n",
      "(198, 0.35076195001602173, 0.8848314881324768, 0.5818347003520337, 0.7765362858772278)\n",
      "(199, 0.3494602143764496, 0.8862359523773193, 0.585418682407221, 0.7765362858772278)\n",
      "Num_samples = 891, Num_features = 107 from training csv\n",
      "split point is : 712\n",
      "(0, 0.6957277655601501, 0.632022500038147, 0.6961534191443267, 0.5530726313591003)\n",
      "(1, 0.6876612305641174, 0.632022500038147, 0.6888548189035341, 0.5530726313591003)\n",
      "(2, 0.6828725934028625, 0.632022500038147, 0.6854259761352113, 0.5530726313591003)\n",
      "(3, 0.6797701716423035, 0.632022500038147, 0.6833235911150884, 0.5530726313591003)\n",
      "(4, 0.6771233081817627, 0.632022500038147, 0.6816217133452772, 0.5530726313591003)\n",
      "(5, 0.6741078495979309, 0.632022500038147, 0.6801208587332145, 0.5530726313591003)\n",
      "(6, 0.6710295081138611, 0.632022500038147, 0.6795095002185033, 0.5530726313591003)\n",
      "(7, 0.6680464744567871, 0.632022500038147, 0.6772323304048463, 0.5530726313591003)\n",
      "(8, 0.6638407111167908, 0.632022500038147, 0.6735848038556189, 0.5530726313591003)\n",
      "(9, 0.6589218378067017, 0.632022500038147, 0.6695037923711639, 0.5530726313591003)\n",
      "(10, 0.6534672975540161, 0.632022500038147, 0.6659595716598979, 0.5530726313591003)\n",
      "(11, 0.6474302411079407, 0.632022500038147, 0.662269641234222, 0.5530726313591003)\n",
      "(12, 0.6411872506141663, 0.632022500038147, 0.6574420003251656, 0.5530726313591003)\n",
      "(13, 0.6349121928215027, 0.632022500038147, 0.653285564990017, 0.5530726313591003)\n",
      "(14, 0.6279900670051575, 0.632022500038147, 0.6484419843338055, 0.5530726313591003)\n",
      "(15, 0.620877742767334, 0.632022500038147, 0.6433577614123595, 0.5530726313591003)\n",
      "(16, 0.613331139087677, 0.632022500038147, 0.6384374985481773, 0.5530726313591003)\n",
      "(17, 0.6054053902626038, 0.632022500038147, 0.6314037402248915, 0.5530726313591003)\n",
      "(18, 0.5971189141273499, 0.632022500038147, 0.6237505033362511, 0.5530726313591003)\n",
      "(19, 0.5884096026420593, 0.632022500038147, 0.6151964954990249, 0.5530726313591003)\n",
      "(20, 0.5794324278831482, 0.632022500038147, 0.6064494528583975, 0.5530726313591003)\n",
      "(21, 0.5704675912857056, 0.632022500038147, 0.598158531515292, 0.5530726313591003)\n",
      "(22, 0.5614458322525024, 0.632022500038147, 0.5899065263444485, 0.5530726313591003)\n",
      "(23, 0.5524865388870239, 0.632022500038147, 0.5799580682173121, 0.5530726313591003)\n",
      "(24, 0.544003427028656, 0.632022500038147, 0.5708781403369744, 0.5530726313591003)\n",
      "(25, 0.5363680124282837, 0.632022500038147, 0.5636294604429986, 0.5530726313591003)\n",
      "(26, 0.529843807220459, 0.632022500038147, 0.5567863893866872, 0.5530726313591003)\n",
      "(27, 0.524660587310791, 0.632022500038147, 0.5517608398082536, 0.5530726313591003)\n",
      "(28, 0.5201728343963623, 0.632022500038147, 0.5473846859147762, 0.5530726313591003)\n",
      "(29, 0.5166013836860657, 0.632022500038147, 0.5440738285220535, 0.5530726313591003)\n",
      "(30, 0.5135752558708191, 0.632022500038147, 0.541619342299147, 0.5530726313591003)\n",
      "(31, 0.5108557939529419, 0.632022500038147, 0.539348515843213, 0.5530726313591003)\n",
      "(32, 0.508461058139801, 0.632022500038147, 0.5373057164980213, 0.5530726313591003)\n",
      "(33, 0.5063762068748474, 0.632022500038147, 0.5361220348085272, 0.5530726313591003)\n",
      "(34, 0.5043182969093323, 0.632022500038147, 0.5351153765258759, 0.5530726313591003)\n",
      "(35, 0.5024511814117432, 0.632022500038147, 0.5339151251197444, 0.5530726313591003)\n",
      "(36, 0.5005729794502258, 0.632022500038147, 0.532119443182256, 0.5530726313591003)\n",
      "(37, 0.4989003837108612, 0.7808988690376282, 0.5314792597864094, 0.7094972133636475)\n",
      "(38, 0.4970550835132599, 0.7977527976036072, 0.5302855625550923, 0.7541899681091309)\n",
      "(39, 0.49539074301719666, 0.7991573214530945, 0.5295281575618094, 0.7541899681091309)\n",
      "(40, 0.4937147796154022, 0.7963483333587646, 0.5281064833212623, 0.7653631567955017)\n",
      "(41, 0.4921545684337616, 0.8019663095474243, 0.5270601771147557, 0.7765362858772278)\n",
      "(42, 0.4905815124511719, 0.8089887499809265, 0.5254426064261095, 0.7932960987091064)\n",
      "(43, 0.4892275631427765, 0.8103932738304138, 0.5244233928355466, 0.7877094745635986)\n",
      "(44, 0.4877795875072479, 0.8132022619247437, 0.5236713565527019, 0.7877094745635986)\n",
      "(45, 0.48638102412223816, 0.8146067261695862, 0.523113671437884, 0.7877094745635986)\n",
      "(46, 0.48494017124176025, 0.8146067261695862, 0.5222536266167446, 0.7877094745635986)\n",
      "(47, 0.48348453640937805, 0.817415714263916, 0.5212116346423977, 0.7932960987091064)\n",
      "(48, 0.4820640981197357, 0.8216292262077332, 0.520413175181033, 0.7988826632499695)\n",
      "(49, 0.4806063771247864, 0.8258426785469055, 0.5194496668890827, 0.7932960987091064)\n",
      "(50, 0.4791914224624634, 0.8286516666412354, 0.5187827516594309, 0.7932960987091064)\n",
      "(51, 0.47781437635421753, 0.8258426785469055, 0.5176876855821625, 0.7877094745635986)\n",
      "(52, 0.47663643956184387, 0.8286516666412354, 0.5165240029107218, 0.7988826632499695)\n",
      "(53, 0.47578194737434387, 0.8230336904525757, 0.5175279797856077, 0.8044692873954773)\n",
      "(54, 0.47361618280410767, 0.834269642829895, 0.5144885796793429, 0.7988826632499695)\n",
      "(55, 0.47318482398986816, 0.824438214302063, 0.5157653643423171, 0.8044692873954773)\n",
      "(56, 0.47107452154159546, 0.8328651785850525, 0.5136946281021482, 0.7988826632499695)\n",
      "(57, 0.47015270590782166, 0.8314606547355652, 0.5134624564576654, 0.8100558519363403)\n",
      "(58, 0.4687345325946808, 0.834269642829895, 0.5126528242074848, 0.8100558519363403)\n",
      "(59, 0.4675840735435486, 0.8356741666793823, 0.5120030706312622, 0.8044692873954773)\n",
      "(60, 0.46639153361320496, 0.8370786309242249, 0.5113766311105944, 0.8100558519363403)\n",
      "(61, 0.4652492105960846, 0.8426966071128845, 0.5107559193870022, 0.8156424760818481)\n",
      "(62, 0.46396657824516296, 0.8426966071128845, 0.5107385857061967, 0.8156424760818481)\n",
      "(63, 0.4626717269420624, 0.8441011309623718, 0.5098723391963262, 0.8212290406227112)\n",
      "(64, 0.46137964725494385, 0.8441011309623718, 0.5102483997698327, 0.8156424760818481)\n",
      "(65, 0.46013614535331726, 0.8455055952072144, 0.509282093716905, 0.8212290406227112)\n",
      "(66, 0.4590161442756653, 0.8441011309623718, 0.509634781764123, 0.8212290406227112)\n",
      "(67, 0.4579060673713684, 0.8441011309623718, 0.509505753005743, 0.8212290406227112)\n",
      "(68, 0.4566015899181366, 0.8469101190567017, 0.5088413590045032, 0.8212290406227112)\n",
      "(69, 0.45563703775405884, 0.8455055952072144, 0.5088008976289118, 0.826815664768219)\n",
      "(70, 0.45449894666671753, 0.8497191071510315, 0.5080831669382855, 0.826815664768219)\n",
      "(71, 0.45369136333465576, 0.8469101190567017, 0.5086264603315364, 0.832402229309082)\n",
      "(72, 0.4522976875305176, 0.851123571395874, 0.5074327102177464, 0.826815664768219)\n",
      "(73, 0.45156800746917725, 0.8525280952453613, 0.5077105094158408, 0.826815664768219)\n",
      "(74, 0.4507193863391876, 0.8525280952453613, 0.5075775618514036, 0.826815664768219)\n",
      "(75, 0.44959884881973267, 0.8553370833396912, 0.5070855932416883, 0.826815664768219)\n",
      "(76, 0.4486916661262512, 0.8525280952453613, 0.5066178453863109, 0.832402229309082)\n",
      "(77, 0.4476379156112671, 0.851123571395874, 0.5065851578953632, 0.832402229309082)\n",
      "(78, 0.44660869240760803, 0.8595505356788635, 0.5055229604862405, 0.832402229309082)\n",
      "(79, 0.44583186507225037, 0.8567415475845337, 0.5073836513807316, 0.832402229309082)\n",
      "(80, 0.4450474977493286, 0.8609550595283508, 0.5055491034911852, 0.826815664768219)\n",
      "(81, 0.4438942074775696, 0.8567415475845337, 0.5075405904978992, 0.832402229309082)\n",
      "(82, 0.4430517852306366, 0.8609550595283508, 0.5060572742649377, 0.8379888534545898)\n",
      "(83, 0.44206854701042175, 0.8595505356788635, 0.5069672079627108, 0.8379888534545898)\n",
      "(84, 0.4413701891899109, 0.858146071434021, 0.5055517107514956, 0.8435754179954529)\n",
      "(85, 0.4400847852230072, 0.858146071434021, 0.5060700728677021, 0.8435754179954529)\n",
      "(86, 0.43932077288627625, 0.858146071434021, 0.5066145639060138, 0.8435754179954529)\n",
      "(87, 0.4383469521999359, 0.8595505356788635, 0.5060368453881862, 0.8435754179954529)\n",
      "(88, 0.4374901354312897, 0.8567415475845337, 0.5052468309070988, 0.8435754179954529)\n",
      "(89, 0.43666350841522217, 0.8553370833396912, 0.5069640420880311, 0.8379888534545898)\n",
      "(90, 0.4360511004924774, 0.858146071434021, 0.5058265468209732, 0.8435754179954529)\n"
     ]
    },
    {
     "name": "stdout",
     "output_type": "stream",
     "text": [
      "(91, 0.43469011783599854, 0.8567415475845337, 0.506961497791663, 0.8491619825363159)\n",
      "(92, 0.4340103566646576, 0.858146071434021, 0.5063625875849559, 0.8435754179954529)\n",
      "(93, 0.4330058693885803, 0.8567415475845337, 0.506803421100716, 0.8435754179954529)\n",
      "(94, 0.4322725832462311, 0.8595505356788635, 0.5064094198204144, 0.8435754179954529)\n",
      "(95, 0.4311368763446808, 0.8595505356788635, 0.5075471117240884, 0.8435754179954529)\n",
      "(96, 0.43038636445999146, 0.8595505356788635, 0.5075912383642222, 0.8435754179954529)\n",
      "(97, 0.4294281005859375, 0.858146071434021, 0.5074156516631734, 0.8435754179954529)\n",
      "(98, 0.42860767245292664, 0.8609550595283508, 0.5082671755475093, 0.8435754179954529)\n",
      "(99, 0.4278106689453125, 0.8609550595283508, 0.5079484947367054, 0.8435754179954529)\n",
      "(100, 0.4269065856933594, 0.8595505356788635, 0.5078225800179449, 0.8435754179954529)\n",
      "(101, 0.42607608437538147, 0.8595505356788635, 0.5081465983520751, 0.8435754179954529)\n",
      "(102, 0.42523038387298584, 0.8609550595283508, 0.5077899494207583, 0.8435754179954529)\n",
      "(103, 0.4246295094490051, 0.8623595237731934, 0.5079435104415291, 0.8435754179954529)\n",
      "(104, 0.4239078164100647, 0.8623595237731934, 0.5090832134898832, 0.8379888534545898)\n",
      "(105, 0.422981858253479, 0.8595505356788635, 0.5094640378179497, 0.8379888534545898)\n",
      "(106, 0.42217785120010376, 0.8623595237731934, 0.5091976077933522, 0.8379888534545898)\n",
      "(107, 0.4211283028125763, 0.8595505356788635, 0.5086926990583754, 0.8435754179954529)\n",
      "(108, 0.4207591712474823, 0.8609550595283508, 0.5104609505315594, 0.8379888534545898)\n",
      "(109, 0.42002221941947937, 0.8609550595283508, 0.5119422534482316, 0.8379888534545898)\n",
      "(110, 0.4188465178012848, 0.858146071434021, 0.5114479554596688, 0.832402229309082)\n",
      "(111, 0.4179528057575226, 0.8609550595283508, 0.5113355696069056, 0.832402229309082)\n",
      "(112, 0.41714370250701904, 0.8623595237731934, 0.5114104262037416, 0.832402229309082)\n",
      "(113, 0.416642963886261, 0.8623595237731934, 0.5116733916082865, 0.826815664768219)\n",
      "(114, 0.41605448722839355, 0.858146071434021, 0.5142582086676731, 0.826815664768219)\n",
      "(115, 0.4151573181152344, 0.8623595237731934, 0.5140188610134955, 0.826815664768219)\n",
      "(116, 0.41413018107414246, 0.8623595237731934, 0.5136106130501594, 0.826815664768219)\n",
      "(117, 0.4136107265949249, 0.8609550595283508, 0.5163471926064951, 0.8212290406227112)\n",
      "(118, 0.4123620092868805, 0.8623595237731934, 0.5145476912977716, 0.826815664768219)\n",
      "(119, 0.4117864966392517, 0.8637640476226807, 0.5150932002704176, 0.826815664768219)\n",
      "(120, 0.41170766949653625, 0.8637640476226807, 0.5211329383343668, 0.8156424760818481)\n",
      "(121, 0.40991732478141785, 0.8665730357170105, 0.5143673249145629, 0.8212290406227112)\n",
      "(122, 0.4092223346233368, 0.8637640476226807, 0.5199079458857773, 0.8156424760818481)\n",
      "(123, 0.4083568751811981, 0.8665730357170105, 0.5191031782987057, 0.8156424760818481)\n",
      "(124, 0.40718379616737366, 0.867977499961853, 0.5166898950066254, 0.8100558519363403)\n",
      "(125, 0.40654128789901733, 0.8637640476226807, 0.5232686954580524, 0.8156424760818481)\n",
      "(126, 0.4058677554130554, 0.867977499961853, 0.5208418174061386, 0.8044692873954773)\n",
      "(127, 0.4047359228134155, 0.867977499961853, 0.5200401499727245, 0.8100558519363403)\n",
      "(128, 0.4038304388523102, 0.8665730357170105, 0.5246237915866279, 0.8044692873954773)\n",
      "(129, 0.40331894159317017, 0.8651685118675232, 0.5255364547438707, 0.8044692873954773)\n",
      "(130, 0.4024379253387451, 0.867977499961853, 0.5252375498805844, 0.8044692873954773)\n",
      "(131, 0.40144404768943787, 0.8693820238113403, 0.5256813124752071, 0.8044692873954773)\n",
      "(132, 0.4008115828037262, 0.8665730357170105, 0.528839247754383, 0.8044692873954773)\n",
      "(133, 0.4002001881599426, 0.8665730357170105, 0.5289650750837914, 0.8044692873954773)\n",
      "(134, 0.3993757367134094, 0.8707864880561829, 0.5224000980985525, 0.8100558519363403)\n",
      "(135, 0.3982701599597931, 0.8693820238113403, 0.5294560121221275, 0.8044692873954773)\n",
      "(136, 0.3980399966239929, 0.8665730357170105, 0.5357720911995469, 0.8100558519363403)\n",
      "(137, 0.3973621726036072, 0.8735954761505127, 0.5255564647583655, 0.8100558519363403)\n",
      "(138, 0.39584144949913025, 0.8693820238113403, 0.5311387441295401, 0.8044692873954773)\n",
      "(139, 0.3958047032356262, 0.8651685118675232, 0.5369566445495763, 0.8156424760818481)\n",
      "(140, 0.39525753259658813, 0.8721910119056702, 0.5250454347057392, 0.8100558519363403)\n",
      "(141, 0.3935178220272064, 0.8707864880561829, 0.5316057347399031, 0.8044692873954773)\n",
      "(142, 0.3936908543109894, 0.8665730357170105, 0.5455355069266845, 0.8156424760818481)\n",
      "(143, 0.3934495449066162, 0.8735954761505127, 0.5292518791413904, 0.8100558519363403)\n",
      "(144, 0.3909156322479248, 0.8735954761505127, 0.5345990856237004, 0.8044692873954773)\n",
      "(145, 0.3907800316810608, 0.8665730357170105, 0.5416324231434511, 0.8044692873954773)\n",
      "(146, 0.3900219798088074, 0.875, 0.5325742179526801, 0.8044692873954773)\n",
      "(147, 0.38847771286964417, 0.875, 0.5345592954454536, 0.8044692873954773)\n",
      "(148, 0.3882225453853607, 0.8707864880561829, 0.5440404882074239, 0.8044692873954773)\n",
      "(149, 0.3876122534275055, 0.8721910119056702, 0.5427119605899394, 0.8044692873954773)\n",
      "(150, 0.3867340087890625, 0.8764045238494873, 0.534232720163518, 0.8100558519363403)\n",
      "(151, 0.38527819514274597, 0.8778089880943298, 0.5427070918230936, 0.8044692873954773)\n",
      "(152, 0.38471388816833496, 0.875, 0.5451670948796214, 0.8100558519363403)\n",
      "(153, 0.3841865658760071, 0.8792135119438171, 0.5436460325805487, 0.8044692873954773)\n",
      "(154, 0.38312122225761414, 0.8792135119438171, 0.542875656585294, 0.8044692873954773)\n",
      "(155, 0.3821103274822235, 0.8778089880943298, 0.5444720359818291, 0.8044692873954773)\n",
      "(156, 0.3814544379711151, 0.8792135119438171, 0.544765728445477, 0.8156424760818481)\n",
      "(157, 0.3809346854686737, 0.8778089880943298, 0.5513010873375617, 0.8100558519363403)\n",
      "(158, 0.38045254349708557, 0.8778089880943298, 0.5497733586734636, 0.8156424760818481)\n",
      "(159, 0.3798466920852661, 0.8834269642829895, 0.5336060040324292, 0.8044692873954773)\n",
      "(160, 0.37880831956863403, 0.882022500038147, 0.5489771613195155, 0.8156424760818481)\n",
      "(161, 0.3782499134540558, 0.8735954761505127, 0.5596009765347555, 0.8156424760818481)\n",
      "(162, 0.377771258354187, 0.882022500038147, 0.5506282037595156, 0.8100558519363403)\n",
      "(163, 0.37588557600975037, 0.882022500038147, 0.5485537250914547, 0.8100558519363403)\n",
      "(164, 0.37499484419822693, 0.882022500038147, 0.5547899443070202, 0.8156424760818481)\n",
      "(165, 0.37443843483924866, 0.882022500038147, 0.5578397132729878, 0.8212290406227112)\n",
      "(166, 0.374080628156662, 0.8806179761886597, 0.5616651890104981, 0.8156424760818481)\n",
      "(167, 0.37335309386253357, 0.8834269642829895, 0.5575945408248412, 0.8156424760818481)\n",
      "(168, 0.3718957006931305, 0.8876404762268066, 0.5534977560513775, 0.8156424760818481)\n",
      "(169, 0.3711753487586975, 0.8876404762268066, 0.5539270585011321, 0.8100558519363403)\n",
      "(170, 0.3708725869655609, 0.882022500038147, 0.5651054015976095, 0.8212290406227112)\n",
      "(171, 0.36973872780799866, 0.882022500038147, 0.5642374183602284, 0.8212290406227112)\n",
      "(172, 0.3688429892063141, 0.8876404762268066, 0.5604522444234475, 0.8100558519363403)\n",
      "(173, 0.3678741753101349, 0.8904494643211365, 0.554329601182272, 0.8100558519363403)\n",
      "(174, 0.36735397577285767, 0.8848314881324768, 0.5634549760821964, 0.8156424760818481)\n",
      "(175, 0.366876482963562, 0.8834269642829895, 0.5698179239903618, 0.8212290406227112)\n",
      "(176, 0.36615628004074097, 0.8848314881324768, 0.5700649507962174, 0.8156424760818481)\n",
      "(177, 0.36550647020339966, 0.891853928565979, 0.5645460161433358, 0.8100558519363403)\n",
      "(178, 0.3640293478965759, 0.8946629166603088, 0.5591408406195069, 0.8044692873954773)\n",
      "(179, 0.3633972406387329, 0.8932584524154663, 0.5658078445135162, 0.8100558519363403)\n",
      "(180, 0.36270955204963684, 0.8890449404716492, 0.5721800388862537, 0.8212290406227112)\n",
      "(181, 0.3618845045566559, 0.8890449404716492, 0.5705190153272529, 0.8212290406227112)\n",
      "(182, 0.3609309792518616, 0.891853928565979, 0.5696380999132028, 0.8156424760818481)\n",
      "(183, 0.3599725067615509, 0.8932584524154663, 0.5717736790296886, 0.8156424760818481)\n",
      "(184, 0.35932210087776184, 0.8932584524154663, 0.5714194487227715, 0.8156424760818481)\n",
      "(185, 0.35896065831184387, 0.8890449404716492, 0.5815796891303036, 0.8212290406227112)\n",
      "(186, 0.3590037524700165, 0.8862359523773193, 0.5867172761123132, 0.826815664768219)\n"
     ]
    },
    {
     "name": "stdout",
     "output_type": "stream",
     "text": [
      "(187, 0.3593882918357849, 0.8932584524154663, 0.5714374464401574, 0.8156424760818481)\n",
      "(188, 0.35671237111091614, 0.8974719047546387, 0.5595655714490011, 0.8100558519363403)\n",
      "(189, 0.3557145893573761, 0.8974719047546387, 0.5655072873904036, 0.8100558519363403)\n",
      "(190, 0.35572922229766846, 0.8890449404716492, 0.5878754222491246, 0.8212290406227112)\n",
      "(191, 0.35583606362342834, 0.891853928565979, 0.5828759545922605, 0.8212290406227112)\n",
      "(192, 0.35392865538597107, 0.8974719047546387, 0.5621990321940036, 0.8044692873954773)\n",
      "(193, 0.35273489356040955, 0.8974719047546387, 0.5625138382917063, 0.7988826632499695)\n",
      "(194, 0.3520524203777313, 0.8960674405097961, 0.578728040274647, 0.8156424760818481)\n",
      "(195, 0.35140132904052734, 0.891853928565979, 0.5891679802892724, 0.8212290406227112)\n",
      "(196, 0.35027050971984863, 0.8960674405097961, 0.5800946325462419, 0.8156424760818481)\n",
      "(197, 0.34916171431541443, 0.8932584524154663, 0.5885396939971623, 0.8156424760818481)\n",
      "(198, 0.34868741035461426, 0.8932584524154663, 0.5965470779023027, 0.8100558519363403)\n",
      "(199, 0.3480849862098694, 0.8974719047546387, 0.5854404072663023, 0.8156424760818481)\n",
      "Num_samples = 891, Num_features = 107 from training csv\n",
      "split point is : 712\n",
      "(0, 0.6677049994468689, 0.6123595237731934, 0.657963374806516, 0.6312848925590515)\n",
      "(1, 0.6644992232322693, 0.6165730357170105, 0.6561920607889165, 0.6312848925590515)\n",
      "(2, 0.6611793637275696, 0.6165730357170105, 0.6544497116317962, 0.6312848925590515)\n",
      "(3, 0.658160388469696, 0.6193820238113403, 0.6528669492492463, 0.6312848925590515)\n",
      "(4, 0.6551857590675354, 0.6207864880561829, 0.6510239091998372, 0.6424580812454224)\n",
      "(5, 0.6520394682884216, 0.625, 0.6493021324693158, 0.6536312699317932)\n",
      "(6, 0.6487725973129272, 0.6362359523773193, 0.6481438921816522, 0.659217894077301)\n",
      "(7, 0.6458914875984192, 0.6390449404716492, 0.647270193646074, 0.6648044586181641)\n",
      "(8, 0.6433846354484558, 0.648876428604126, 0.646261050381474, 0.6648044586181641)\n",
      "(9, 0.6409768462181091, 0.6601123809814453, 0.6448203536718251, 0.6871508359909058)\n",
      "(10, 0.6384890079498291, 0.6699438095092773, 0.6431209128662194, 0.6759776473045349)\n",
      "(11, 0.6359360218048096, 0.6741573214530945, 0.6412675517231392, 0.6703910827636719)\n",
      "(12, 0.6333834528923035, 0.6699438095092773, 0.6392426530742112, 0.6480447053909302)\n",
      "(13, 0.6308849453926086, 0.675561785697937, 0.6371439702018014, 0.6480447053909302)\n",
      "(14, 0.6284481883049011, 0.6797752976417542, 0.6350189317538085, 0.6480447053909302)\n",
      "(15, 0.6257449388504028, 0.6867977380752563, 0.6327256645237267, 0.6536312699317932)\n",
      "(16, 0.6227943897247314, 0.6882022619247437, 0.6299370879401042, 0.659217894077301)\n",
      "(17, 0.6196326613426208, 0.6896067261695862, 0.6263907626687482, 0.659217894077301)\n",
      "(18, 0.6160725355148315, 0.6896067261695862, 0.6227144834549068, 0.659217894077301)\n",
      "(19, 0.6121770739555359, 0.6896067261695862, 0.618502585581561, 0.659217894077301)\n",
      "(20, 0.6079468131065369, 0.6952247023582458, 0.6138485619309229, 0.659217894077301)\n",
      "(21, 0.6032395958900452, 0.6952247023582458, 0.6081380442034598, 0.659217894077301)\n",
      "(22, 0.5982354879379272, 0.6980336904525757, 0.6018919453607591, 0.659217894077301)\n",
      "(23, 0.5926320552825928, 0.699438214302063, 0.5957046308497477, 0.6536312699317932)\n",
      "(24, 0.5866890549659729, 0.699438214302063, 0.588722019388689, 0.659217894077301)\n",
      "(25, 0.5800938010215759, 0.7008426785469055, 0.5804672956300181, 0.659217894077301)\n",
      "(26, 0.5725222826004028, 0.7036516666412354, 0.5700271534187168, 0.6759776473045349)\n",
      "(27, 0.5640601515769958, 0.7050561904907227, 0.5573365315378711, 0.6983240246772766)\n",
      "(28, 0.5547964572906494, 0.7148876190185547, 0.5469331413340968, 0.7039105892181396)\n",
      "(29, 0.5456346869468689, 0.7205055952072144, 0.5367991048946726, 0.7094972133636475)\n",
      "(30, 0.5363107919692993, 0.7303370833396912, 0.5263325186581586, 0.7094972133636475)\n",
      "(31, 0.525789737701416, 0.7387640476226807, 0.5178791039815828, 0.7262569665908813)\n",
      "(32, 0.5164022445678711, 0.75, 0.5097950776029565, 0.748603343963623)\n",
      "(33, 0.5080225467681885, 0.7612359523773193, 0.5013052555810473, 0.748603343963623)\n",
      "(34, 0.49888965487480164, 0.7696629166603088, 0.4936429365387176, 0.7709497213363647)\n",
      "(35, 0.4907664954662323, 0.7808988690376282, 0.4860469079134185, 0.7765362858772278)\n",
      "(36, 0.4827646017074585, 0.783707857131958, 0.4791341828775472, 0.7765362858772278)\n",
      "(37, 0.47494232654571533, 0.783707857131958, 0.4733430348836177, 0.7765362858772278)\n",
      "(38, 0.4678351581096649, 0.790730357170105, 0.46804014955486, 0.7877094745635986)\n",
      "(39, 0.46104487776756287, 0.8019663095474243, 0.4633706385405037, 0.7765362858772278)\n",
      "(40, 0.4542234241962433, 0.8146067261695862, 0.45833952720771287, 0.8156424760818481)\n",
      "(41, 0.446874737739563, 0.8160112500190735, 0.45398281450128425, 0.8044692873954773)\n",
      "(42, 0.44022896885871887, 0.8160112500190735, 0.4507366772584992, 0.8044692873954773)\n",
      "(43, 0.43461835384368896, 0.8132022619247437, 0.44761536800557505, 0.8100558519363403)\n",
      "(44, 0.4288209080696106, 0.8160112500190735, 0.44489894527161505, 0.8156424760818481)\n",
      "(45, 0.42237091064453125, 0.817415714263916, 0.44179636805562833, 0.8156424760818481)\n",
      "(46, 0.4145581126213074, 0.8188202381134033, 0.4399315624747571, 0.8212290406227112)\n",
      "(47, 0.4090288579463959, 0.8188202381134033, 0.43809177838369956, 0.8212290406227112)\n",
      "(48, 0.40380680561065674, 0.8216292262077332, 0.43758252215592514, 0.8156424760818481)\n",
      "(49, 0.3998727798461914, 0.8230336904525757, 0.4368194004822543, 0.8100558519363403)\n",
      "(50, 0.3957599401473999, 0.824438214302063, 0.43711864649755205, 0.8100558519363403)\n",
      "(51, 0.3923027813434601, 0.8258426785469055, 0.4371250768025619, 0.8044692873954773)\n",
      "(52, 0.38867390155792236, 0.8300561904907227, 0.43786832402712617, 0.8044692873954773)\n",
      "(53, 0.38566625118255615, 0.8314606547355652, 0.4384956026174045, 0.7988826632499695)\n",
      "(54, 0.3826023042201996, 0.8314606547355652, 0.4394987129792311, 0.8044692873954773)\n",
      "(55, 0.3799284100532532, 0.8356741666793823, 0.4404876244822829, 0.8100558519363403)\n",
      "(56, 0.3772381544113159, 0.8356741666793823, 0.4415504932227966, 0.8100558519363403)\n",
      "(57, 0.3747650384902954, 0.8356741666793823, 0.44276744328886686, 0.8156424760818481)\n",
      "(58, 0.372422993183136, 0.8370786309242249, 0.44402171166772386, 0.8156424760818481)\n",
      "(59, 0.3701285123825073, 0.8384831547737122, 0.4454245633619978, 0.8156424760818481)\n",
      "(60, 0.36798030138015747, 0.8398876190185547, 0.44691060691930135, 0.8156424760818481)\n",
      "(61, 0.36594951152801514, 0.841292142868042, 0.4485035816697903, 0.8156424760818481)\n",
      "(62, 0.36399737000465393, 0.8455055952072144, 0.4501540241758118, 0.8156424760818481)\n",
      "(63, 0.3621343970298767, 0.8455055952072144, 0.45184745423576417, 0.8156424760818481)\n",
      "(64, 0.36045780777931213, 0.8455055952072144, 0.4536670751669854, 0.8156424760818481)\n",
      "(65, 0.3588062822818756, 0.8469101190567017, 0.4556885569183385, 0.8156424760818481)\n",
      "(66, 0.3571283221244812, 0.8525280952453613, 0.4575153470135947, 0.8156424760818481)\n",
      "(67, 0.3556285500526428, 0.8553370833396912, 0.45939964175454534, 0.8156424760818481)\n",
      "(68, 0.35421866178512573, 0.8553370833396912, 0.4614941691788721, 0.8100558519363403)\n",
      "(69, 0.35272884368896484, 0.8553370833396912, 0.4633523567855116, 0.8100558519363403)\n",
      "(70, 0.35148516297340393, 0.8567415475845337, 0.4650816452348759, 0.8100558519363403)\n",
      "(71, 0.35024797916412354, 0.8595505356788635, 0.46694315224666444, 0.8044692873954773)\n",
      "(72, 0.34885579347610474, 0.858146071434021, 0.46802415636892614, 0.8044692873954773)\n",
      "(73, 0.3478238880634308, 0.8637640476226807, 0.46966947495219347, 0.8044692873954773)\n",
      "(74, 0.34668925404548645, 0.8637640476226807, 0.47125421795145644, 0.8044692873954773)\n",
      "(75, 0.3454401195049286, 0.8609550595283508, 0.47292570092484604, 0.8044692873954773)\n",
      "(76, 0.3446076214313507, 0.8651685118675232, 0.47484291869973505, 0.7988826632499695)\n",
      "(77, 0.3435218036174774, 0.8651685118675232, 0.4763117076329677, 0.7988826632499695)\n",
      "(78, 0.34227100014686584, 0.8623595237731934, 0.4779192019791252, 0.8044692873954773)\n",
      "(79, 0.341398149728775, 0.8623595237731934, 0.48004534156812473, 0.8044692873954773)\n",
      "(80, 0.3405322730541229, 0.8637640476226807, 0.4818860124215162, 0.7988826632499695)\n",
      "(81, 0.3395211100578308, 0.8637640476226807, 0.4832450229793554, 0.8100558519363403)\n",
      "(82, 0.33853262662887573, 0.8637640476226807, 0.4848326297770609, 0.8044692873954773)\n"
     ]
    },
    {
     "name": "stdout",
     "output_type": "stream",
     "text": [
      "(83, 0.3377234935760498, 0.8623595237731934, 0.4865606140834572, 0.8044692873954773)\n",
      "(84, 0.33680459856987, 0.8609550595283508, 0.4880762376140908, 0.8044692873954773)\n",
      "(85, 0.3359691798686981, 0.8609550595283508, 0.48971566242312925, 0.8044692873954773)\n",
      "(86, 0.33520007133483887, 0.8609550595283508, 0.4911527779402188, 0.8044692873954773)\n",
      "(87, 0.3342559337615967, 0.8609550595283508, 0.49281346848761004, 0.8044692873954773)\n",
      "(88, 0.3335205316543579, 0.8609550595283508, 0.4942349615052507, 0.8044692873954773)\n",
      "(89, 0.3327776789665222, 0.8609550595283508, 0.49599951236111167, 0.8044692873954773)\n",
      "(90, 0.3319365382194519, 0.8609550595283508, 0.4975525329254039, 0.8044692873954773)\n",
      "(91, 0.3311944007873535, 0.8609550595283508, 0.4987984142610521, 0.8044692873954773)\n",
      "(92, 0.33044949173927307, 0.8609550595283508, 0.5004108205388619, 0.8044692873954773)\n",
      "(93, 0.32969141006469727, 0.8609550595283508, 0.5020275246355616, 0.8044692873954773)\n",
      "(94, 0.32902970910072327, 0.8609550595283508, 0.5034065763208048, 0.8044692873954773)\n",
      "(95, 0.32819467782974243, 0.8609550595283508, 0.5047077156516391, 0.8044692873954773)\n",
      "(96, 0.3275759518146515, 0.8609550595283508, 0.5061108000307428, 0.8044692873954773)\n",
      "(97, 0.3268374502658844, 0.8609550595283508, 0.5073909368484085, 0.8044692873954773)\n",
      "(98, 0.3260367512702942, 0.8609550595283508, 0.5086199024421423, 0.8044692873954773)\n",
      "(99, 0.32537004351615906, 0.8609550595283508, 0.5098889164209898, 0.8044692873954773)\n",
      "(100, 0.3246389627456665, 0.8609550595283508, 0.511155281518773, 0.8044692873954773)\n",
      "(101, 0.3239482641220093, 0.8595505356788635, 0.5122393151757313, 0.8044692873954773)\n",
      "(102, 0.32317209243774414, 0.8595505356788635, 0.5133959815258964, 0.8044692873954773)\n",
      "(103, 0.32254788279533386, 0.8609550595283508, 0.5145933425899164, 0.8044692873954773)\n",
      "(104, 0.3218228220939636, 0.8595505356788635, 0.5157996062945288, 0.8044692873954773)\n",
      "(105, 0.32123616337776184, 0.8595505356788635, 0.5169864098760978, 0.8044692873954773)\n",
      "(106, 0.3205244839191437, 0.8595505356788635, 0.5179457791044461, 0.7988826632499695)\n",
      "(107, 0.31997790932655334, 0.8595505356788635, 0.5192807100803349, 0.7988826632499695)\n",
      "(108, 0.3194356858730316, 0.8609550595283508, 0.5206137006734477, 0.7988826632499695)\n",
      "(109, 0.31872230768203735, 0.8609550595283508, 0.5216868486683053, 0.7988826632499695)\n",
      "(110, 0.3180670440196991, 0.8609550595283508, 0.5228665810825824, 0.7988826632499695)\n",
      "(111, 0.31753093004226685, 0.8609550595283508, 0.5238981012352925, 0.8044692873954773)\n",
      "(112, 0.31699538230895996, 0.8609550595283508, 0.5251668155138485, 0.8044692873954773)\n",
      "(113, 0.31639206409454346, 0.8609550595283508, 0.5262806216036013, 0.8044692873954773)\n",
      "(114, 0.31580036878585815, 0.8623595237731934, 0.5273076488820864, 0.8044692873954773)\n",
      "(115, 0.31522244215011597, 0.8609550595283508, 0.5282952875915279, 0.8044692873954773)\n",
      "(116, 0.31475815176963806, 0.8609550595283508, 0.529597346971191, 0.8044692873954773)\n",
      "(117, 0.3141406774520874, 0.8623595237731934, 0.5307936383382611, 0.8044692873954773)\n",
      "(118, 0.31372520327568054, 0.8637640476226807, 0.5319052943654872, 0.8044692873954773)\n",
      "(119, 0.3130008280277252, 0.8623595237731934, 0.5329028098950509, 0.8044692873954773)\n",
      "(120, 0.312483012676239, 0.8623595237731934, 0.5342663025934771, 0.8044692873954773)\n",
      "(121, 0.31202852725982666, 0.8623595237731934, 0.5355246536475747, 0.8044692873954773)\n",
      "(122, 0.3114418089389801, 0.8637640476226807, 0.5365650070118679, 0.7988826632499695)\n",
      "(123, 0.3109322786331177, 0.8623595237731934, 0.53795546272055, 0.7988826632499695)\n",
      "(124, 0.310359925031662, 0.8623595237731934, 0.5388594704522802, 0.7988826632499695)\n",
      "(125, 0.30994847416877747, 0.8637640476226807, 0.5400419415432276, 0.7988826632499695)\n",
      "(126, 0.30931973457336426, 0.8623595237731934, 0.5412792409546958, 0.7988826632499695)\n",
      "(127, 0.30897244811058044, 0.8637640476226807, 0.5418307001120853, 0.7988826632499695)\n",
      "(128, 0.30854931473731995, 0.8637640476226807, 0.543094087853955, 0.7988826632499695)\n",
      "(129, 0.30774182081222534, 0.8623595237731934, 0.544544907458551, 0.7988826632499695)\n",
      "(130, 0.30737578868865967, 0.8623595237731934, 0.5456972992525386, 0.7988826632499695)\n",
      "(131, 0.3070957660675049, 0.8651685118675232, 0.5469469814536156, 0.7988826632499695)\n",
      "(132, 0.30633339285850525, 0.8651685118675232, 0.5480024746877472, 0.7988826632499695)\n",
      "(133, 0.30570992827415466, 0.8637640476226807, 0.5493117058954391, 0.7988826632499695)\n",
      "(134, 0.3054015040397644, 0.8665730357170105, 0.5502889010965328, 0.7988826632499695)\n",
      "(135, 0.3048781454563141, 0.867977499961853, 0.5514938993747215, 0.7988826632499695)\n",
      "(136, 0.3042565584182739, 0.867977499961853, 0.5527639478706083, 0.7988826632499695)\n",
      "(137, 0.3038036525249481, 0.8693820238113403, 0.5536302804222089, 0.7988826632499695)\n",
      "(138, 0.3034132122993469, 0.8693820238113403, 0.5548302284738287, 0.7988826632499695)\n",
      "(139, 0.3028310239315033, 0.8707864880561829, 0.5560249841353617, 0.7988826632499695)\n",
      "(140, 0.30236226320266724, 0.8721910119056702, 0.5569629514291632, 0.7988826632499695)\n",
      "(141, 0.3019261658191681, 0.8707864880561829, 0.5581985711028261, 0.7988826632499695)\n",
      "(142, 0.3013593256473541, 0.8735954761505127, 0.5588067095014446, 0.7988826632499695)\n",
      "(143, 0.3008551299571991, 0.8721910119056702, 0.5601121005510634, 0.7988826632499695)\n",
      "(144, 0.30045652389526367, 0.8707864880561829, 0.5614729309361375, 0.7988826632499695)\n",
      "(145, 0.3001149892807007, 0.8735954761505127, 0.5622878879268846, 0.7988826632499695)\n",
      "(146, 0.2993984520435333, 0.8735954761505127, 0.5633800853716051, 0.8044692873954773)\n",
      "(147, 0.2988634407520294, 0.8721910119056702, 0.5645880175862955, 0.8044692873954773)\n",
      "(148, 0.2985774278640747, 0.8764045238494873, 0.5653558503623628, 0.8044692873954773)\n",
      "(149, 0.29816263914108276, 0.8735954761505127, 0.5663604007283092, 0.8044692873954773)\n",
      "(150, 0.2974184453487396, 0.8721910119056702, 0.5674154512663582, 0.8044692873954773)\n",
      "(151, 0.2970595061779022, 0.8735954761505127, 0.5681456815389452, 0.8044692873954773)\n",
      "(152, 0.2968562841415405, 0.8735954761505127, 0.5688478522452127, 0.8044692873954773)\n",
      "(153, 0.29607197642326355, 0.875, 0.5701698190313291, 0.7988826632499695)\n",
      "(154, 0.29542064666748047, 0.8735954761505127, 0.5716176512363499, 0.7988826632499695)\n",
      "(155, 0.2955620288848877, 0.8764045238494873, 0.5726037893166258, 0.7988826632499695)\n",
      "(156, 0.29465436935424805, 0.875, 0.5736371559299493, 0.7988826632499695)\n",
      "(157, 0.29390013217926025, 0.8735954761505127, 0.5750177027331747, 0.7988826632499695)\n",
      "(158, 0.29383763670921326, 0.8764045238494873, 0.575901535457057, 0.7988826632499695)\n",
      "(159, 0.2933651804924011, 0.8764045238494873, 0.5770718898368553, 0.7988826632499695)\n",
      "(160, 0.2923211455345154, 0.8764045238494873, 0.5783842591094651, 0.7988826632499695)\n",
      "(161, 0.2920851707458496, 0.8764045238494873, 0.5793150330046853, 0.7988826632499695)\n",
      "(162, 0.2919270396232605, 0.8792135119438171, 0.5799313934816148, 0.8044692873954773)\n",
      "(163, 0.2911309003829956, 0.8792135119438171, 0.5816923006050515, 0.7988826632499695)\n",
      "(164, 0.29035115242004395, 0.8778089880943298, 0.5829333653344758, 0.8044692873954773)\n",
      "(165, 0.29059743881225586, 0.8792135119438171, 0.5839603398988017, 0.7988826632499695)\n",
      "(166, 0.28971728682518005, 0.8792135119438171, 0.5850484840792343, 0.8044692873954773)\n",
      "(167, 0.28877437114715576, 0.8778089880943298, 0.5860100651382534, 0.8044692873954773)\n",
      "(168, 0.2888818085193634, 0.8792135119438171, 0.5868152069635144, 0.8044692873954773)\n",
      "(169, 0.2881799638271332, 0.8792135119438171, 0.5879927760248436, 0.7988826632499695)\n",
      "(170, 0.28730306029319763, 0.8778089880943298, 0.5890558881558936, 0.8044692873954773)\n",
      "(171, 0.2873043119907379, 0.8792135119438171, 0.589621493250894, 0.8044692873954773)\n",
      "(172, 0.2868468165397644, 0.8806179761886597, 0.5909602200792465, 0.7988826632499695)\n",
      "(173, 0.28590402007102966, 0.8764045238494873, 0.5920251686155386, 0.8044692873954773)\n",
      "(174, 0.2856910526752472, 0.8792135119438171, 0.5927369902696197, 0.7988826632499695)\n",
      "(175, 0.2852693498134613, 0.8806179761886597, 0.5940696042181166, 0.7988826632499695)\n",
      "(176, 0.28444692492485046, 0.8764045238494873, 0.594990094340735, 0.8044692873954773)\n",
      "(177, 0.2844342887401581, 0.8778089880943298, 0.5957586857509065, 0.8044692873954773)\n",
      "(178, 0.2837141752243042, 0.8778089880943298, 0.5968808187479558, 0.7988826632499695)\n"
     ]
    },
    {
     "name": "stdout",
     "output_type": "stream",
     "text": [
      "(179, 0.28285643458366394, 0.8764045238494873, 0.5982146885333626, 0.8044692873954773)\n",
      "(180, 0.2828584909439087, 0.8778089880943298, 0.5990304114100661, 0.8044692873954773)\n",
      "(181, 0.2825208604335785, 0.8792135119438171, 0.5995000099571292, 0.7988826632499695)\n",
      "(182, 0.2814580500125885, 0.8778089880943298, 0.6008457956964838, 0.8044692873954773)\n",
      "(183, 0.2808816134929657, 0.8778089880943298, 0.6025946753411524, 0.8044692873954773)\n",
      "(184, 0.28113415837287903, 0.8778089880943298, 0.6038409724971685, 0.8044692873954773)\n",
      "(185, 0.28025686740875244, 0.8792135119438171, 0.6046310339939495, 0.8044692873954773)\n",
      "(186, 0.27930423617362976, 0.8792135119438171, 0.6058327418759519, 0.8044692873954773)\n",
      "(187, 0.2790972590446472, 0.8806179761886597, 0.6072354703891167, 0.8044692873954773)\n",
      "(188, 0.2787827253341675, 0.8792135119438171, 0.6080535731049782, 0.8044692873954773)\n",
      "(189, 0.2779584228992462, 0.8806179761886597, 0.6096438632949356, 0.8044692873954773)\n",
      "(190, 0.2772882580757141, 0.8806179761886597, 0.6111108906982617, 0.8044692873954773)\n",
      "(191, 0.277400940656662, 0.882022500038147, 0.6123567957192657, 0.8044692873954773)\n",
      "(192, 0.2765176594257355, 0.882022500038147, 0.6132459545555357, 0.8044692873954773)\n",
      "(193, 0.2757400572299957, 0.882022500038147, 0.6148439517848983, 0.8044692873954773)\n",
      "(194, 0.27533861994743347, 0.8806179761886597, 0.6158443013340356, 0.8044692873954773)\n",
      "(195, 0.2751085162162781, 0.882022500038147, 0.617201629404761, 0.8044692873954773)\n",
      "(196, 0.274387001991272, 0.882022500038147, 0.6187224977019476, 0.8044692873954773)\n",
      "(197, 0.27374544739723206, 0.882022500038147, 0.6198442603800297, 0.8044692873954773)\n",
      "(198, 0.27346089482307434, 0.8848314881324768, 0.6210201970662452, 0.8044692873954773)\n",
      "(199, 0.272808313369751, 0.8848314881324768, 0.6226000995454491, 0.8044692873954773)\n"
     ]
    }
   ],
   "source": [
    "num_epochs = 200\n",
    "batch_size=128\n",
    "train_frac=0.8\n",
    "featureSet = {'Embarked', 'Sex', 'Age', 'SibSp', 'Parch', 'CabinId', 'Title', 'Fare'}\n",
    "#featureSet = {'Embarked', 'Sex', 'Age', 'SibSp', 'Parch', 'Title', 'Fare'}\n",
    "train_runs = {}\n",
    "num_runs =3\n",
    "for i in range(num_runs):\n",
    "    model, train_loss, train_acc, valid_loss, valid_acc, train_dl, validation_dl = gen_dataset_and_train_model(batch_size, train_frac, num_epochs, featureSet)\n",
    "    train_runs[i] = model, train_loss, train_acc, valid_loss, valid_acc , train_dl, validation_dl\n",
    "    "
   ]
  },
  {
   "cell_type": "code",
   "execution_count": 1271,
   "metadata": {},
   "outputs": [
    {
     "name": "stdout",
     "output_type": "stream",
     "text": [
      "i = 0, correct = 139.0, tot = 179, accuracy = 77.6536331177\n",
      "i = 1, correct = 146.0, tot = 179, accuracy = 81.5642471313\n",
      "i = 2, correct = 144.0, tot = 179, accuracy = 80.4469299316\n"
     ]
    }
   ],
   "source": [
    "for i in range(num_runs):\n",
    "    model, train_loss, train_acc, valid_loss, valid_acc, train_dl, validation_dl = train_runs[i]\n",
    "    correct, tot = get_accuracy(model, validation_dl)\n",
    "    print (\"i = {}, correct = {}, tot = {}, accuracy = {}\".format(i, correct, tot, 100*correct/float(tot)))"
   ]
  },
  {
   "cell_type": "code",
   "execution_count": 1272,
   "metadata": {
    "scrolled": false
   },
   "outputs": [
    {
     "data": {
      "image/png": "[encoded data removed]",
      "text/plain": [
       "<Figure size 1440x432 with 1 Axes>"
      ]
     },
     "metadata": {
      "needs_background": "light"
     },
     "output_type": "display_data"
    },
    {
     "data": {
      "image/png": "[encoded data removed]",
      "text/plain": [
       "<Figure size 1440x432 with 1 Axes>"
      ]
     },
     "metadata": {
      "needs_background": "light"
     },
     "output_type": "display_data"
    },
    {
     "data": {
      "image/png": "[encoded data removed]",
      "text/plain": [
       "<Figure size 1440x432 with 1 Axes>"
      ]
     },
     "metadata": {
      "needs_background": "light"
     },
     "output_type": "display_data"
    }
   ],
   "source": [
    "epochs = range(num_epochs)\n",
    "for i in range(num_runs):\n",
    "    model, train_loss, train_acc, valid_loss, valid_acc, train_dl, validation_dl = train_runs[i]\n",
    "    plt.figure(figsize=(20,6))\n",
    "    plt.plot(epochs, train_loss, valid_loss)\n",
    "    plt.grid(True)\n",
    "    plt.legend(['train_loss', 'valid_loss'])\n",
    "    plt.title(\"Training and validation loss for model from i = {}\".format(i))"
   ]
  },
  {
   "cell_type": "code",
   "execution_count": 1273,
   "metadata": {
    "scrolled": false
   },
   "outputs": [
    {
     "data": {
      "image/png": "[encoded data removed]",
      "text/plain": [
       "<Figure size 1440x432 with 1 Axes>"
      ]
     },
     "metadata": {
      "needs_background": "light"
     },
     "output_type": "display_data"
    },
    {
     "data": {
      "image/png": "[encoded data removed]",
      "text/plain": [
       "<Figure size 1440x432 with 1 Axes>"
      ]
     },
     "metadata": {
      "needs_background": "light"
     },
     "output_type": "display_data"
    },
    {
     "data": {
      "image/png": "[encoded data removed]",
      "text/plain": [
       "<Figure size 1440x432 with 1 Axes>"
      ]
     },
     "metadata": {
      "needs_background": "light"
     },
     "output_type": "display_data"
    }
   ],
   "source": [
    "for i in range(num_runs):\n",
    "    model, train_loss, train_acc, valid_loss, valid_acc, train_dl, validation_dl = train_runs[i]\n",
    "    plt.figure(figsize=(20,6))\n",
    "    plt.plot(epochs, train_acc, valid_acc)\n",
    "    plt.grid(True)\n",
    "    plt.legend(['train_acc', 'valid_acc'])\n",
    "    plt.title(\"Training and validation accuracy for model from i = {}\".format(i))"
   ]
  },
  {
   "cell_type": "code",
   "execution_count": 1242,
   "metadata": {},
   "outputs": [],
   "source": [
    "model, train_loss, train_acc, valid_loss, valid_acc, train_dl, validation_dl = train_runs[0]"
   ]
  },
  {
   "cell_type": "code",
   "execution_count": 1243,
   "metadata": {},
   "outputs": [],
   "source": [
    "passenger_ids_pred = []\n",
    "X_pred = []\n",
    "Y_pred = []\n",
    "for idx, row in df_test.iterrows():\n",
    "    pid, X_row, _ = get_featurized_data(row, False, featureSet)\n",
    "    X_pred.append(X_row)\n",
    "    passenger_ids_pred.append(pid)"
   ]
  },
  {
   "cell_type": "code",
   "execution_count": 1244,
   "metadata": {
    "scrolled": false
   },
   "outputs": [],
   "source": [
    "f = open('preds.txt', 'w')\n",
    "f.write(\"PassengerId,Survived\\n\")\n",
    "for i in range(len(X_pred)):\n",
    "    y_pred = (model(X_pred[i]) > 0.5)\n",
    "    Y_pred.append(y_pred)\n",
    "    f.write(\"{},{}\\n\".format(passenger_ids_pred[i], y_pred.item()))\n",
    "f.close()"
   ]
  },
  {
   "cell_type": "markdown",
   "metadata": {},
   "source": [
    "# Further improvement\n",
    "In this notebook, we focused mainly on using pytorch for kaggle and\n",
    "I have used only a simple DNN for this purpose. Considering the size\n",
    "and nature of this dataset, tree based models might do better. Also\n",
    "there is scope for more manual feature engineering."
   ]
  },
  {
   "cell_type": "code",
   "execution_count": null,
   "metadata": {},
   "outputs": [],
   "source": []
  }
 ],
 "metadata": {
  "kernelspec": {
   "display_name": "Python 2",
   "language": "python",
   "name": "python2"
  },
  "language_info": {
   "codemirror_mode": {
    "name": "ipython",
    "version": 2
   },
   "file_extension": ".py",
   "mimetype": "text/x-python",
   "name": "python",
   "nbconvert_exporter": "python",
   "pygments_lexer": "ipython2",
   "version": "2.7.16"
  }
 },
 "nbformat": 4,
 "nbformat_minor": 2
}
