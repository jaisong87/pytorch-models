{
 "cells": [
  {
   "cell_type": "code",
   "execution_count": 465,
   "metadata": {},
   "outputs": [],
   "source": [
    "import pandas as pd\n",
    "import matplotlib.pyplot as plt\n",
    "import seaborn as sns\n",
    "import torch\n",
    "import torch.nn as nn\n",
    "import numpy as np\n",
    "from torch.utils.data import TensorDataset, DataLoader\n",
    "import torch.nn.functional as F\n",
    "from torch import optim\n",
    "from sklearn.utils import shuffle"
   ]
  },
  {
   "cell_type": "markdown",
   "metadata": {},
   "source": [
    "# Read data\n",
    "Load data into dataframes"
   ]
  },
  {
   "cell_type": "code",
   "execution_count": 466,
   "metadata": {},
   "outputs": [],
   "source": [
    "df_train = pd.read_csv('train.csv')\n",
    "df_test = pd.read_csv('test.csv')"
   ]
  },
  {
   "cell_type": "code",
   "execution_count": 467,
   "metadata": {},
   "outputs": [
    {
     "data": {
      "text/plain": [
       "Index([u'Id', u'MSSubClass', u'MSZoning', u'LotFrontage', u'LotArea',\n",
       "       u'Street', u'Alley', u'LotShape', u'LandContour', u'Utilities',\n",
       "       u'LotConfig', u'LandSlope', u'Neighborhood', u'Condition1',\n",
       "       u'Condition2', u'BldgType', u'HouseStyle', u'OverallQual',\n",
       "       u'OverallCond', u'YearBuilt', u'YearRemodAdd', u'RoofStyle',\n",
       "       u'RoofMatl', u'Exterior1st', u'Exterior2nd', u'MasVnrType',\n",
       "       u'MasVnrArea', u'ExterQual', u'ExterCond', u'Foundation', u'BsmtQual',\n",
       "       u'BsmtCond', u'BsmtExposure', u'BsmtFinType1', u'BsmtFinSF1',\n",
       "       u'BsmtFinType2', u'BsmtFinSF2', u'BsmtUnfSF', u'TotalBsmtSF',\n",
       "       u'Heating', u'HeatingQC', u'CentralAir', u'Electrical', u'1stFlrSF',\n",
       "       u'2ndFlrSF', u'LowQualFinSF', u'GrLivArea', u'BsmtFullBath',\n",
       "       u'BsmtHalfBath', u'FullBath', u'HalfBath', u'BedroomAbvGr',\n",
       "       u'KitchenAbvGr', u'KitchenQual', u'TotRmsAbvGrd', u'Functional',\n",
       "       u'Fireplaces', u'FireplaceQu', u'GarageType', u'GarageYrBlt',\n",
       "       u'GarageFinish', u'GarageCars', u'GarageArea', u'GarageQual',\n",
       "       u'GarageCond', u'PavedDrive', u'WoodDeckSF', u'OpenPorchSF',\n",
       "       u'EnclosedPorch', u'3SsnPorch', u'ScreenPorch', u'PoolArea', u'PoolQC',\n",
       "       u'Fence', u'MiscFeature', u'MiscVal', u'MoSold', u'YrSold', u'SaleType',\n",
       "       u'SaleCondition', u'SalePrice'],\n",
       "      dtype='object')"
      ]
     },
     "execution_count": 467,
     "metadata": {},
     "output_type": "execute_result"
    }
   ],
   "source": [
    "df_train.columns"
   ]
  },
  {
   "cell_type": "markdown",
   "metadata": {},
   "source": [
    "# Compute LogSalePrice\n",
    "You can optionally try to predict this if you want. This implementation predicts actual SalePrice"
   ]
  },
  {
   "cell_type": "code",
   "execution_count": 468,
   "metadata": {},
   "outputs": [],
   "source": [
    "df_train['LogSalePrice'] = np.log(df_train['SalePrice'])"
   ]
  },
  {
   "cell_type": "code",
   "execution_count": 469,
   "metadata": {},
   "outputs": [
    {
     "data": {
      "text/html": [
       "<div>\n",
       "<style scoped>\n",
       "    .dataframe tbody tr th:only-of-type {\n",
       "        vertical-align: middle;\n",
       "    }\n",
       "\n",
       "    .dataframe tbody tr th {\n",
       "        vertical-align: top;\n",
       "    }\n",
       "\n",
       "    .dataframe thead th {\n",
       "        text-align: right;\n",
       "    }\n",
       "</style>\n",
       "<table border=\"1\" class=\"dataframe\">\n",
       "  <thead>\n",
       "    <tr style=\"text-align: right;\">\n",
       "      <th></th>\n",
       "      <th>Id</th>\n",
       "      <th>MSSubClass</th>\n",
       "      <th>MSZoning</th>\n",
       "      <th>LotFrontage</th>\n",
       "      <th>LotArea</th>\n",
       "      <th>Street</th>\n",
       "      <th>Alley</th>\n",
       "      <th>LotShape</th>\n",
       "      <th>LandContour</th>\n",
       "      <th>Utilities</th>\n",
       "      <th>...</th>\n",
       "      <th>PoolQC</th>\n",
       "      <th>Fence</th>\n",
       "      <th>MiscFeature</th>\n",
       "      <th>MiscVal</th>\n",
       "      <th>MoSold</th>\n",
       "      <th>YrSold</th>\n",
       "      <th>SaleType</th>\n",
       "      <th>SaleCondition</th>\n",
       "      <th>SalePrice</th>\n",
       "      <th>LogSalePrice</th>\n",
       "    </tr>\n",
       "  </thead>\n",
       "  <tbody>\n",
       "    <tr>\n",
       "      <th>0</th>\n",
       "      <td>1</td>\n",
       "      <td>60</td>\n",
       "      <td>RL</td>\n",
       "      <td>65.0</td>\n",
       "      <td>8450</td>\n",
       "      <td>Pave</td>\n",
       "      <td>NaN</td>\n",
       "      <td>Reg</td>\n",
       "      <td>Lvl</td>\n",
       "      <td>AllPub</td>\n",
       "      <td>...</td>\n",
       "      <td>NaN</td>\n",
       "      <td>NaN</td>\n",
       "      <td>NaN</td>\n",
       "      <td>0</td>\n",
       "      <td>2</td>\n",
       "      <td>2008</td>\n",
       "      <td>WD</td>\n",
       "      <td>Normal</td>\n",
       "      <td>208500</td>\n",
       "      <td>12.247694</td>\n",
       "    </tr>\n",
       "    <tr>\n",
       "      <th>1</th>\n",
       "      <td>2</td>\n",
       "      <td>20</td>\n",
       "      <td>RL</td>\n",
       "      <td>80.0</td>\n",
       "      <td>9600</td>\n",
       "      <td>Pave</td>\n",
       "      <td>NaN</td>\n",
       "      <td>Reg</td>\n",
       "      <td>Lvl</td>\n",
       "      <td>AllPub</td>\n",
       "      <td>...</td>\n",
       "      <td>NaN</td>\n",
       "      <td>NaN</td>\n",
       "      <td>NaN</td>\n",
       "      <td>0</td>\n",
       "      <td>5</td>\n",
       "      <td>2007</td>\n",
       "      <td>WD</td>\n",
       "      <td>Normal</td>\n",
       "      <td>181500</td>\n",
       "      <td>12.109011</td>\n",
       "    </tr>\n",
       "    <tr>\n",
       "      <th>2</th>\n",
       "      <td>3</td>\n",
       "      <td>60</td>\n",
       "      <td>RL</td>\n",
       "      <td>68.0</td>\n",
       "      <td>11250</td>\n",
       "      <td>Pave</td>\n",
       "      <td>NaN</td>\n",
       "      <td>IR1</td>\n",
       "      <td>Lvl</td>\n",
       "      <td>AllPub</td>\n",
       "      <td>...</td>\n",
       "      <td>NaN</td>\n",
       "      <td>NaN</td>\n",
       "      <td>NaN</td>\n",
       "      <td>0</td>\n",
       "      <td>9</td>\n",
       "      <td>2008</td>\n",
       "      <td>WD</td>\n",
       "      <td>Normal</td>\n",
       "      <td>223500</td>\n",
       "      <td>12.317167</td>\n",
       "    </tr>\n",
       "    <tr>\n",
       "      <th>3</th>\n",
       "      <td>4</td>\n",
       "      <td>70</td>\n",
       "      <td>RL</td>\n",
       "      <td>60.0</td>\n",
       "      <td>9550</td>\n",
       "      <td>Pave</td>\n",
       "      <td>NaN</td>\n",
       "      <td>IR1</td>\n",
       "      <td>Lvl</td>\n",
       "      <td>AllPub</td>\n",
       "      <td>...</td>\n",
       "      <td>NaN</td>\n",
       "      <td>NaN</td>\n",
       "      <td>NaN</td>\n",
       "      <td>0</td>\n",
       "      <td>2</td>\n",
       "      <td>2006</td>\n",
       "      <td>WD</td>\n",
       "      <td>Abnorml</td>\n",
       "      <td>140000</td>\n",
       "      <td>11.849398</td>\n",
       "    </tr>\n",
       "    <tr>\n",
       "      <th>4</th>\n",
       "      <td>5</td>\n",
       "      <td>60</td>\n",
       "      <td>RL</td>\n",
       "      <td>84.0</td>\n",
       "      <td>14260</td>\n",
       "      <td>Pave</td>\n",
       "      <td>NaN</td>\n",
       "      <td>IR1</td>\n",
       "      <td>Lvl</td>\n",
       "      <td>AllPub</td>\n",
       "      <td>...</td>\n",
       "      <td>NaN</td>\n",
       "      <td>NaN</td>\n",
       "      <td>NaN</td>\n",
       "      <td>0</td>\n",
       "      <td>12</td>\n",
       "      <td>2008</td>\n",
       "      <td>WD</td>\n",
       "      <td>Normal</td>\n",
       "      <td>250000</td>\n",
       "      <td>12.429216</td>\n",
       "    </tr>\n",
       "  </tbody>\n",
       "</table>\n",
       "<p>5 rows × 82 columns</p>\n",
       "</div>"
      ],
      "text/plain": [
       "   Id  MSSubClass MSZoning  LotFrontage  LotArea Street Alley LotShape  \\\n",
       "0   1          60       RL         65.0     8450   Pave   NaN      Reg   \n",
       "1   2          20       RL         80.0     9600   Pave   NaN      Reg   \n",
       "2   3          60       RL         68.0    11250   Pave   NaN      IR1   \n",
       "3   4          70       RL         60.0     9550   Pave   NaN      IR1   \n",
       "4   5          60       RL         84.0    14260   Pave   NaN      IR1   \n",
       "\n",
       "  LandContour Utilities  ... PoolQC Fence MiscFeature MiscVal MoSold YrSold  \\\n",
       "0         Lvl    AllPub  ...    NaN   NaN         NaN       0      2   2008   \n",
       "1         Lvl    AllPub  ...    NaN   NaN         NaN       0      5   2007   \n",
       "2         Lvl    AllPub  ...    NaN   NaN         NaN       0      9   2008   \n",
       "3         Lvl    AllPub  ...    NaN   NaN         NaN       0      2   2006   \n",
       "4         Lvl    AllPub  ...    NaN   NaN         NaN       0     12   2008   \n",
       "\n",
       "  SaleType  SaleCondition  SalePrice  LogSalePrice  \n",
       "0       WD         Normal     208500     12.247694  \n",
       "1       WD         Normal     181500     12.109011  \n",
       "2       WD         Normal     223500     12.317167  \n",
       "3       WD        Abnorml     140000     11.849398  \n",
       "4       WD         Normal     250000     12.429216  \n",
       "\n",
       "[5 rows x 82 columns]"
      ]
     },
     "execution_count": 469,
     "metadata": {},
     "output_type": "execute_result"
    }
   ],
   "source": [
    "df_train.head()"
   ]
  },
  {
   "cell_type": "markdown",
   "metadata": {},
   "source": [
    "# Preprocessing\n",
    "For all numeric columns , we are replacing unknown with median"
   ]
  },
  {
   "cell_type": "code",
   "execution_count": 470,
   "metadata": {},
   "outputs": [],
   "source": [
    "cols = df_train.columns\n",
    "numeric_cols = set(df_train._get_numeric_data().columns)"
   ]
  },
  {
   "cell_type": "code",
   "execution_count": 471,
   "metadata": {},
   "outputs": [],
   "source": [
    "categoric_cols = list(set(cols) - set(numeric_cols))"
   ]
  },
  {
   "cell_type": "code",
   "execution_count": 472,
   "metadata": {},
   "outputs": [
    {
     "name": "stdout",
     "output_type": "stream",
     "text": [
      " Numeric columns are set(['3SsnPorch', 'BsmtFullBath', 'OpenPorchSF', '2ndFlrSF', 'HalfBath', 'OverallCond', 'LotArea', 'GrLivArea', 'YearRemodAdd', 'MasVnrArea', '1stFlrSF', 'Fireplaces', 'EnclosedPorch', 'LotFrontage', 'MiscVal', 'OverallQual', 'KitchenAbvGr', 'WoodDeckSF', 'MoSold', 'BsmtHalfBath', 'TotalBsmtSF', 'TotRmsAbvGrd', 'BsmtUnfSF', 'GarageYrBlt', 'FullBath', 'YrSold', 'MSSubClass', 'YearBuilt', 'BsmtFinSF1', 'BsmtFinSF2', 'PoolArea', 'ScreenPorch', 'BedroomAbvGr', 'LowQualFinSF', 'GarageArea', 'GarageCars']) \n"
     ]
    }
   ],
   "source": [
    "numeric_cols.remove('Id')\n",
    "numeric_cols.remove('SalePrice')\n",
    "numeric_cols.remove('LogSalePrice')\n",
    "print (\" Numeric columns are {} \".format(numeric_cols))"
   ]
  },
  {
   "cell_type": "markdown",
   "metadata": {},
   "source": [
    "# Log1p normalization\n",
    "You can uncomment the code below if you want log1p normalizaition.\n",
    "In my experience 0-1 normalization turned out to be better"
   ]
  },
  {
   "cell_type": "code",
   "execution_count": 475,
   "metadata": {},
   "outputs": [
    {
     "data": {
      "text/plain": [
       "'\\nfor col in numeric_cols:\\n    df_test[col] = np.log1p(df_test[col])\\n    \\nfor col in numeric_cols:\\n    df_train[col] = np.log1p(df_train[col])\\n'"
      ]
     },
     "execution_count": 475,
     "metadata": {},
     "output_type": "execute_result"
    }
   ],
   "source": [
    "'''\n",
    "for col in numeric_cols:\n",
    "    df_test[col] = np.log1p(df_test[col])\n",
    "    \n",
    "for col in numeric_cols:\n",
    "    df_train[col] = np.log1p(df_train[col])\n",
    "'''"
   ]
  },
  {
   "cell_type": "markdown",
   "metadata": {},
   "source": [
    "# Centering the features\n",
    "We are scaling down features to 0 mean and unit variance.\n",
    "This helps quite a bit in making the predictions"
   ]
  },
  {
   "cell_type": "code",
   "execution_count": 476,
   "metadata": {},
   "outputs": [],
   "source": [
    "for col in numeric_cols:\n",
    "    col_median = df_train[col].median()\n",
    "    df_train[col].fillna(col_median, inplace=True)\n",
    "    df_test[col].fillna(col_median, inplace=True)\n",
    "\n",
    "col_mean = {}\n",
    "col_std = {}\n",
    "for col in numeric_cols:\n",
    "    col_mean[col] = df_train[col].mean()\n",
    "    col_std[col] = df_train[col].std()\n",
    "\n",
    "for col in numeric_cols:\n",
    "    df_test[col] = (df_test[col] - col_mean[col]) / col_std[col]\n",
    "\n",
    "for col in numeric_cols:\n",
    "    df_train[col] = (df_train[col] - col_mean[col]) / col_std[col]"
   ]
  },
  {
   "cell_type": "code",
   "execution_count": 477,
   "metadata": {},
   "outputs": [
    {
     "data": {
      "text/html": [
       "<div>\n",
       "<style scoped>\n",
       "    .dataframe tbody tr th:only-of-type {\n",
       "        vertical-align: middle;\n",
       "    }\n",
       "\n",
       "    .dataframe tbody tr th {\n",
       "        vertical-align: top;\n",
       "    }\n",
       "\n",
       "    .dataframe thead th {\n",
       "        text-align: right;\n",
       "    }\n",
       "</style>\n",
       "<table border=\"1\" class=\"dataframe\">\n",
       "  <thead>\n",
       "    <tr style=\"text-align: right;\">\n",
       "      <th></th>\n",
       "      <th>Id</th>\n",
       "      <th>MSSubClass</th>\n",
       "      <th>MSZoning</th>\n",
       "      <th>LotFrontage</th>\n",
       "      <th>LotArea</th>\n",
       "      <th>Street</th>\n",
       "      <th>Alley</th>\n",
       "      <th>LotShape</th>\n",
       "      <th>LandContour</th>\n",
       "      <th>Utilities</th>\n",
       "      <th>...</th>\n",
       "      <th>PoolQC</th>\n",
       "      <th>Fence</th>\n",
       "      <th>MiscFeature</th>\n",
       "      <th>MiscVal</th>\n",
       "      <th>MoSold</th>\n",
       "      <th>YrSold</th>\n",
       "      <th>SaleType</th>\n",
       "      <th>SaleCondition</th>\n",
       "      <th>SalePrice</th>\n",
       "      <th>LogSalePrice</th>\n",
       "    </tr>\n",
       "  </thead>\n",
       "  <tbody>\n",
       "    <tr>\n",
       "      <th>0</th>\n",
       "      <td>1</td>\n",
       "      <td>0.424317</td>\n",
       "      <td>RL</td>\n",
       "      <td>-0.078869</td>\n",
       "      <td>-0.133225</td>\n",
       "      <td>Pave</td>\n",
       "      <td>NaN</td>\n",
       "      <td>Reg</td>\n",
       "      <td>Lvl</td>\n",
       "      <td>AllPub</td>\n",
       "      <td>...</td>\n",
       "      <td>NaN</td>\n",
       "      <td>NaN</td>\n",
       "      <td>NaN</td>\n",
       "      <td>-0.190416</td>\n",
       "      <td>-1.908671</td>\n",
       "      <td>0.139058</td>\n",
       "      <td>WD</td>\n",
       "      <td>Normal</td>\n",
       "      <td>208500</td>\n",
       "      <td>12.247694</td>\n",
       "    </tr>\n",
       "    <tr>\n",
       "      <th>1</th>\n",
       "      <td>2</td>\n",
       "      <td>-1.124816</td>\n",
       "      <td>RL</td>\n",
       "      <td>0.572523</td>\n",
       "      <td>0.113374</td>\n",
       "      <td>Pave</td>\n",
       "      <td>NaN</td>\n",
       "      <td>Reg</td>\n",
       "      <td>Lvl</td>\n",
       "      <td>AllPub</td>\n",
       "      <td>...</td>\n",
       "      <td>NaN</td>\n",
       "      <td>NaN</td>\n",
       "      <td>NaN</td>\n",
       "      <td>-0.190416</td>\n",
       "      <td>-0.279805</td>\n",
       "      <td>-0.614042</td>\n",
       "      <td>WD</td>\n",
       "      <td>Normal</td>\n",
       "      <td>181500</td>\n",
       "      <td>12.109011</td>\n",
       "    </tr>\n",
       "    <tr>\n",
       "      <th>2</th>\n",
       "      <td>3</td>\n",
       "      <td>0.424317</td>\n",
       "      <td>RL</td>\n",
       "      <td>0.062519</td>\n",
       "      <td>0.419905</td>\n",
       "      <td>Pave</td>\n",
       "      <td>NaN</td>\n",
       "      <td>IR1</td>\n",
       "      <td>Lvl</td>\n",
       "      <td>AllPub</td>\n",
       "      <td>...</td>\n",
       "      <td>NaN</td>\n",
       "      <td>NaN</td>\n",
       "      <td>NaN</td>\n",
       "      <td>-0.190416</td>\n",
       "      <td>0.920613</td>\n",
       "      <td>0.139058</td>\n",
       "      <td>WD</td>\n",
       "      <td>Normal</td>\n",
       "      <td>223500</td>\n",
       "      <td>12.317167</td>\n",
       "    </tr>\n",
       "    <tr>\n",
       "      <th>3</th>\n",
       "      <td>4</td>\n",
       "      <td>0.644852</td>\n",
       "      <td>RL</td>\n",
       "      <td>-0.329448</td>\n",
       "      <td>0.103282</td>\n",
       "      <td>Pave</td>\n",
       "      <td>NaN</td>\n",
       "      <td>IR1</td>\n",
       "      <td>Lvl</td>\n",
       "      <td>AllPub</td>\n",
       "      <td>...</td>\n",
       "      <td>NaN</td>\n",
       "      <td>NaN</td>\n",
       "      <td>NaN</td>\n",
       "      <td>-0.190416</td>\n",
       "      <td>-1.908671</td>\n",
       "      <td>-1.367517</td>\n",
       "      <td>WD</td>\n",
       "      <td>Abnorml</td>\n",
       "      <td>140000</td>\n",
       "      <td>11.849398</td>\n",
       "    </tr>\n",
       "    <tr>\n",
       "      <th>4</th>\n",
       "      <td>5</td>\n",
       "      <td>0.424317</td>\n",
       "      <td>RL</td>\n",
       "      <td>0.725840</td>\n",
       "      <td>0.878130</td>\n",
       "      <td>Pave</td>\n",
       "      <td>NaN</td>\n",
       "      <td>IR1</td>\n",
       "      <td>Lvl</td>\n",
       "      <td>AllPub</td>\n",
       "      <td>...</td>\n",
       "      <td>NaN</td>\n",
       "      <td>NaN</td>\n",
       "      <td>NaN</td>\n",
       "      <td>-0.190416</td>\n",
       "      <td>1.537157</td>\n",
       "      <td>0.139058</td>\n",
       "      <td>WD</td>\n",
       "      <td>Normal</td>\n",
       "      <td>250000</td>\n",
       "      <td>12.429216</td>\n",
       "    </tr>\n",
       "  </tbody>\n",
       "</table>\n",
       "<p>5 rows × 82 columns</p>\n",
       "</div>"
      ],
      "text/plain": [
       "   Id  MSSubClass MSZoning  LotFrontage   LotArea Street Alley LotShape  \\\n",
       "0   1    0.424317       RL    -0.078869 -0.133225   Pave   NaN      Reg   \n",
       "1   2   -1.124816       RL     0.572523  0.113374   Pave   NaN      Reg   \n",
       "2   3    0.424317       RL     0.062519  0.419905   Pave   NaN      IR1   \n",
       "3   4    0.644852       RL    -0.329448  0.103282   Pave   NaN      IR1   \n",
       "4   5    0.424317       RL     0.725840  0.878130   Pave   NaN      IR1   \n",
       "\n",
       "  LandContour Utilities  ... PoolQC Fence MiscFeature   MiscVal    MoSold  \\\n",
       "0         Lvl    AllPub  ...    NaN   NaN         NaN -0.190416 -1.908671   \n",
       "1         Lvl    AllPub  ...    NaN   NaN         NaN -0.190416 -0.279805   \n",
       "2         Lvl    AllPub  ...    NaN   NaN         NaN -0.190416  0.920613   \n",
       "3         Lvl    AllPub  ...    NaN   NaN         NaN -0.190416 -1.908671   \n",
       "4         Lvl    AllPub  ...    NaN   NaN         NaN -0.190416  1.537157   \n",
       "\n",
       "     YrSold SaleType  SaleCondition  SalePrice  LogSalePrice  \n",
       "0  0.139058       WD         Normal     208500     12.247694  \n",
       "1 -0.614042       WD         Normal     181500     12.109011  \n",
       "2  0.139058       WD         Normal     223500     12.317167  \n",
       "3 -1.367517       WD        Abnorml     140000     11.849398  \n",
       "4  0.139058       WD         Normal     250000     12.429216  \n",
       "\n",
       "[5 rows x 82 columns]"
      ]
     },
     "execution_count": 477,
     "metadata": {},
     "output_type": "execute_result"
    }
   ],
   "source": [
    "df_train.head()"
   ]
  },
  {
   "cell_type": "code",
   "execution_count": 478,
   "metadata": {},
   "outputs": [
    {
     "name": "stdout",
     "output_type": "stream",
     "text": [
      "There are 36 numeric columns and 43 categoric columns\n"
     ]
    }
   ],
   "source": [
    "print (\"There are {} numeric columns and {} categoric columns\".format(len(numeric_cols), len(categoric_cols)))"
   ]
  },
  {
   "cell_type": "markdown",
   "metadata": {},
   "source": [
    "For all categoric columns, we are computing vocab with min count"
   ]
  },
  {
   "cell_type": "markdown",
   "metadata": {},
   "source": [
    "# Vocab for categorical features\n",
    "Identify the vocab for categorical features. Omit categorical\n",
    "features with low coverage"
   ]
  },
  {
   "cell_type": "code",
   "execution_count": 482,
   "metadata": {
    "scrolled": false
   },
   "outputs": [
    {
     "name": "stdout",
     "output_type": "stream",
     "text": [
      "Summary for column=MasVnrType, coverage = 1452, vocab = ['None', 'BrkFace', 'Stone', 'BrkCmn']\n",
      "Summary for column=LotConfig, coverage = 1460, vocab = ['Inside', 'Corner', 'CulDSac', 'FR2']\n",
      "Summary for column=GarageQual, coverage = 1379, vocab = ['TA', 'Fa', 'Gd']\n",
      "Summary for column=Exterior1st, coverage = 1460, vocab = ['VinylSd', 'HdBoard', 'MetalSd', 'Wd Sdng', 'Plywood', 'CemntBd', 'BrkFace', 'WdShing', 'Stucco', 'AsbShng']\n",
      "Summary for column=GarageFinish, coverage = 1379, vocab = ['Unf', 'RFn', 'Fin']\n",
      "Summary for column=Electrical, coverage = 1459, vocab = ['SBrkr', 'FuseA', 'FuseF']\n",
      "Summary for column=BsmtQual, coverage = 1423, vocab = ['TA', 'Gd', 'Ex', 'Fa']\n",
      "Summary for column=BsmtExposure, coverage = 1422, vocab = ['No', 'Av', 'Gd', 'Mn']\n",
      "Summary for column=Foundation, coverage = 1460, vocab = ['PConc', 'CBlock', 'BrkTil', 'Slab', 'Stone']\n",
      "Summary for column=GarageType, coverage = 1379, vocab = ['Attchd', 'Detchd', 'BuiltIn', 'Basment', 'CarPort', '2Types']\n",
      "Summary for column=BsmtCond, coverage = 1423, vocab = ['TA', 'Gd', 'Fa']\n",
      "Summary for column=HeatingQC, coverage = 1460, vocab = ['Ex', 'TA', 'Gd', 'Fa']\n",
      "Summary for column=RoofStyle, coverage = 1460, vocab = ['Gable', 'Hip', 'Flat', 'Gambrel', 'Mansard']\n",
      "Summary for column=CentralAir, coverage = 1460, vocab = ['Y', 'N']\n",
      "Summary for column=Utilities, coverage = 1460, vocab = ['AllPub']\n",
      "Summary for column=LotShape, coverage = 1460, vocab = ['Reg', 'IR1', 'IR2', 'IR3']\n",
      "Ignored column=MiscFeature due to low coverage(54)\n",
      "Summary for column=PavedDrive, coverage = 1460, vocab = ['Y', 'N', 'P']\n",
      "Summary for column=LandSlope, coverage = 1460, vocab = ['Gtl', 'Mod', 'Sev']\n",
      "Summary for column=BldgType, coverage = 1460, vocab = ['1Fam', 'TwnhsE', 'Duplex', 'Twnhs', '2fmCon']\n",
      "Summary for column=SaleType, coverage = 1460, vocab = ['WD', 'New', 'COD', 'ConLD', 'ConLw', 'ConLI']\n",
      "Summary for column=MSZoning, coverage = 1460, vocab = ['RL', 'RM', 'FV', 'RH', 'C (all)']\n",
      "Summary for column=Exterior2nd, coverage = 1460, vocab = ['VinylSd', 'MetalSd', 'HdBoard', 'Wd Sdng', 'Plywood', 'CmentBd', 'Wd Shng', 'Stucco', 'BrkFace', 'AsbShng', 'ImStucc', 'Brk Cmn', 'Stone']\n",
      "Summary for column=Heating, coverage = 1460, vocab = ['GasA', 'GasW', 'Grav']\n",
      "Summary for column=RoofMatl, coverage = 1460, vocab = ['CompShg', 'Tar&Grv', 'WdShngl', 'WdShake']\n",
      "Summary for column=FireplaceQu, coverage = 770, vocab = ['Gd', 'TA', 'Fa', 'Ex', 'Po']\n",
      "Summary for column=KitchenQual, coverage = 1460, vocab = ['TA', 'Gd', 'Ex', 'Fa']\n",
      "Summary for column=BsmtFinType2, coverage = 1422, vocab = ['Unf', 'Rec', 'LwQ', 'BLQ', 'ALQ', 'GLQ']\n",
      "Summary for column=BsmtFinType1, coverage = 1423, vocab = ['Unf', 'GLQ', 'ALQ', 'BLQ', 'Rec', 'LwQ']\n",
      "Summary for column=Condition2, coverage = 1460, vocab = ['Norm', 'Feedr']\n",
      "Summary for column=Condition1, coverage = 1460, vocab = ['Norm', 'Feedr', 'Artery', 'RRAn', 'PosN', 'RRAe', 'PosA', 'RRNn']\n",
      "Summary for column=GarageCond, coverage = 1379, vocab = ['TA', 'Fa', 'Gd', 'Po']\n",
      "Summary for column=LandContour, coverage = 1460, vocab = ['Lvl', 'Bnk', 'HLS', 'Low']\n",
      "Summary for column=Neighborhood, coverage = 1460, vocab = ['NAmes', 'CollgCr', 'OldTown', 'Edwards', 'Somerst', 'Gilbert', 'NridgHt', 'Sawyer', 'NWAmes', 'SawyerW', 'BrkSide', 'Crawfor', 'Mitchel', 'NoRidge', 'Timber', 'IDOTRR', 'ClearCr', 'SWISU', 'StoneBr', 'MeadowV', 'Blmngtn', 'BrDale', 'Veenker', 'NPkVill']\n",
      "Summary for column=Fence, coverage = 281, vocab = ['MnPrv', 'GdPrv', 'GdWo', 'MnWw']\n",
      "Summary for column=SaleCondition, coverage = 1460, vocab = ['Normal', 'Partial', 'Abnorml', 'Family', 'Alloca']\n",
      "Summary for column=ExterQual, coverage = 1460, vocab = ['TA', 'Gd', 'Ex', 'Fa']\n",
      "Summary for column=Functional, coverage = 1460, vocab = ['Typ', 'Min2', 'Min1', 'Mod', 'Maj1', 'Maj2']\n",
      "Ignored column=Alley due to low coverage(91)\n",
      "Summary for column=Street, coverage = 1460, vocab = ['Pave', 'Grvl']\n",
      "Summary for column=HouseStyle, coverage = 1460, vocab = ['1Story', '2Story', '1.5Fin', 'SLvl', 'SFoyer', '1.5Unf', '2.5Unf', '2.5Fin']\n",
      "Summary for column=ExterCond, coverage = 1460, vocab = ['TA', 'Gd', 'Fa']\n",
      "Ignored column=PoolQC due to low coverage(7)\n",
      "Feature count = 202\n"
     ]
    }
   ],
   "source": [
    "MIN_FRQ_FOR_VOCAB = 5\n",
    "MIN_COVERAGE_FOR_FEATURE = 200\n",
    "cat_col_vocab = {}\n",
    "feat_count = 0\n",
    "for col in categoric_cols:\n",
    "    col_summary = df_train[col].value_counts()\n",
    "    col_vocab = [k for (k,v) in col_summary.items() if v >= MIN_FRQ_FOR_VOCAB]\n",
    "    col_coverage = sum(col_summary.values)\n",
    "    if col_coverage >= MIN_COVERAGE_FOR_FEATURE:\n",
    "        cat_col_vocab[col] = col_vocab\n",
    "        feat_count += len(col_vocab)\n",
    "        print (\"Summary for column={}, coverage = {}, vocab = {}\".format(col, col_coverage, cat_col_vocab[col]))\n",
    "    else:\n",
    "        print (\"Ignored column={} due to low coverage({})\".format(col, col_coverage))\n",
    "print (\"Feature count = {}\".format(feat_count))"
   ]
  },
  {
   "cell_type": "markdown",
   "metadata": {},
   "source": [
    "# Utils and Featurizer\n",
    "Now we define util functions to extract features and convert to onehot if needed"
   ]
  },
  {
   "cell_type": "code",
   "execution_count": 483,
   "metadata": {},
   "outputs": [],
   "source": [
    "def one_hot_from_numeric(feature, max_dim, unknown_value_dim=0):\n",
    "    feature_vec = torch.zeros(max_dim + 2)\n",
    "    if feature is not None and not np.isnan(feature):\n",
    "        feature_vec[int(feature)+1] = 1\n",
    "    else:\n",
    "        feature_vec[unknown_value_dim] = 1\n",
    "    return feature_vec\n",
    "\n",
    "def one_hot_from_cat(feature, val_list= ['S', 'C', 'Q']):\n",
    "    max_dim = len(val_list)\n",
    "    feature_vec = torch.zeros(max_dim + 1)\n",
    "    if feature is None:\n",
    "        feature_vec[0] = 1\n",
    "    else:\n",
    "        for i in range(len(val_list)):\n",
    "            if feature == val_list[i]:\n",
    "                feature_vec[i+1] = 1\n",
    "    return feature_vec\n",
    "\n",
    "def real_feature(val, default_val=None):\n",
    "    feature_vec = torch.zeros(1)\n",
    "    if val is not None and not np.isnan(val):\n",
    "        feature_vec[0] = val\n",
    "    elif default_val is not None:\n",
    "        feature_vec[0] = default_val\n",
    "    return feature_vec"
   ]
  },
  {
   "cell_type": "code",
   "execution_count": 484,
   "metadata": {},
   "outputs": [],
   "source": [
    "def get_featurized_data(row, extractLabel=True,\n",
    "                        numeric_feature_set = {'1stFlrSF'},\n",
    "                        cat_col_vocab = {}):\n",
    "    features = []\n",
    "    for numeric_col in numeric_feature_set:\n",
    "        features.append(real_feature(row[numeric_col]))\n",
    "    for cat_col, vocab in cat_col_vocab.iteritems():\n",
    "        features.append(one_hot_from_cat(row[cat_col], vocab))\n",
    "    Y = None\n",
    "    if extractLabel:\n",
    "        Y = real_feature(int(row['SalePrice']))\n",
    "#       Y = real_feature(int(row['LogSalePrice']))\n",
    "    X = torch.cat(features)\n",
    "    return row['Id'], X, Y"
   ]
  },
  {
   "cell_type": "code",
   "execution_count": 485,
   "metadata": {},
   "outputs": [
    {
     "data": {
      "text/plain": [
       "(2, tensor([0.4183]), tensor([181500.]))"
      ]
     },
     "execution_count": 485,
     "metadata": {},
     "output_type": "execute_result"
    }
   ],
   "source": [
    "get_featurized_data(df_train.iloc[1], True, {'1stFlrSF'})"
   ]
  },
  {
   "cell_type": "code",
   "execution_count": 486,
   "metadata": {},
   "outputs": [],
   "source": [
    "def get_train_and_validation_set(df_train,\n",
    "                                 bs=128,\n",
    "                                 train_frac=0.9, \n",
    "                                 numeric_feature_set = {'1stFlrSF'},\n",
    "                                 cat_col_vocab = {}):\n",
    "    df_train = shuffle(df_train)\n",
    "    ids = []\n",
    "    X_train = []\n",
    "    Y_train = []\n",
    "    for idx, row in df_train.iterrows():\n",
    "        record_id, X_row, Y_row = get_featurized_data(row, True, numeric_feature_set, cat_col_vocab)\n",
    "        X_train.append(X_row)\n",
    "        Y_train.append(Y_row)\n",
    "        ids.append(record_id)\n",
    "        \n",
    "    num_samples = len(X_train)\n",
    "    num_features = X_train[0].shape[0]\n",
    "    print (\"Num_samples = {}, Num_features = {} from training data file\".format(num_samples, num_features))\n",
    "\n",
    "    split_point = int(train_frac*num_samples)\n",
    "    tensor_x_train = torch.stack(X_train[:split_point]) # transform to torch tensors\n",
    "    tensor_y_train = torch.stack(Y_train[:split_point])\n",
    "\n",
    "    train_dataset = TensorDataset(tensor_x_train,tensor_y_train) # create your datset\n",
    "    train_dataloader = DataLoader(train_dataset, batch_size=bs)\n",
    "    #len(train_dataset)) # create your dataloader\n",
    "\n",
    "    print (\"split point is : {}\".format(split_point))\n",
    "\n",
    "    tensor_x_valid = torch.stack(X_train[split_point:]) # transform to torch tensors\n",
    "    tensor_y_valid = torch.stack(Y_train[split_point:])\n",
    "\n",
    "    validation_dataset = TensorDataset(tensor_x_valid,tensor_y_valid) # create your datset\n",
    "    validation_dataloader = DataLoader(validation_dataset)\n",
    "    return train_dataloader, validation_dataloader, num_features, numeric_feature_set"
   ]
  },
  {
   "cell_type": "code",
   "execution_count": 487,
   "metadata": {},
   "outputs": [
    {
     "name": "stdout",
     "output_type": "stream",
     "text": [
      "Num_samples = 1460, Num_features = 36 from training data file\n",
      "split point is : 1314\n"
     ]
    }
   ],
   "source": [
    "numeric_feature_set = {'3SsnPorch', 'BsmtFullBath', 'OpenPorchSF', '2ndFlrSF', 'HalfBath', \n",
    "                       'OverallCond', 'LotArea', 'GrLivArea', 'YearRemodAdd', 'MasVnrArea', \n",
    "                       '1stFlrSF', 'Fireplaces', 'EnclosedPorch', 'LotFrontage', 'MiscVal', \n",
    "                       'OverallQual', 'KitchenAbvGr', 'WoodDeckSF', 'MoSold', 'BsmtHalfBath', \n",
    "                       'TotalBsmtSF', 'TotRmsAbvGrd', 'BsmtUnfSF', 'GarageYrBlt', 'FullBath',\n",
    "                       'YrSold', 'MSSubClass', 'YearBuilt', 'BsmtFinSF1', 'BsmtFinSF2', 'PoolArea', \n",
    "                       'ScreenPorch', 'BedroomAbvGr', 'LowQualFinSF', 'GarageArea', 'GarageCars'}\n",
    "train_dataloader, validation_dataloader, num_features, featureList = get_train_and_validation_set(\n",
    "    df_train, 128, 0.9, numeric_feature_set)"
   ]
  },
  {
   "cell_type": "code",
   "execution_count": 488,
   "metadata": {},
   "outputs": [
    {
     "data": {
      "text/plain": [
       "tensor([0., 1., 0., 0., 0., 0.])"
      ]
     },
     "execution_count": 488,
     "metadata": {},
     "output_type": "execute_result"
    }
   ],
   "source": [
    "one_hot_from_cat(df_train.iloc[5]['SaleCondition'], cat_col_vocab['SaleCondition'])"
   ]
  },
  {
   "cell_type": "markdown",
   "metadata": {},
   "source": [
    "# Define DNNRegressor\n",
    "We are defining last layer as RELU to avoid nan in eval computation(log(x<0) is undefined"
   ]
  },
  {
   "cell_type": "code",
   "execution_count": 489,
   "metadata": {},
   "outputs": [],
   "source": [
    "class SimpleNN(nn.Module):\n",
    "    def __init__(self, X_in=91):\n",
    "        super(SimpleNN, self).__init__()\n",
    "        self.lin1 = nn.Linear(X_in, 64)\n",
    "        self.lin2 = nn.Linear(64, 32)\n",
    "        self.lin3 = nn.Linear(32, 32)\n",
    "        self.lin4 = nn.Linear(32, 8)\n",
    "        self.final_layer = nn.Linear(8, 1)\n",
    "        \n",
    "    def forward(self, X):\n",
    "        X = self.lin1(X)\n",
    "        X = F.relu(X)\n",
    "        X = self.lin2(X)\n",
    "        X = F.relu(X)\n",
    "        X = self.lin3(X)\n",
    "        X = F.relu(X)\n",
    "        X = self.lin4(X)\n",
    "        X = F.relu(X)\n",
    "        X = self.final_layer(X)\n",
    "        # Eval function is taking log(Pred) and hence RELU on prediction is important to avoid nan\n",
    "        return F.relu(X)"
   ]
  },
  {
   "cell_type": "code",
   "execution_count": 490,
   "metadata": {},
   "outputs": [],
   "source": [
    "class RMSELossOnLogPred(nn.Module):\n",
    "    def __init__(self, eps=1e-6):\n",
    "        super(RMSELossOnLogPred, self).__init__()\n",
    "        self.mse = nn.MSELoss()\n",
    "        self.eps = eps\n",
    "        \n",
    "    def forward(self,yhat,y):\n",
    "        loss = torch.sqrt(self.mse(torch.log(yhat.clamp_min(self.eps)) ,torch.log(y)) + self.eps)\n",
    "        return loss"
   ]
  },
  {
   "cell_type": "code",
   "execution_count": 491,
   "metadata": {},
   "outputs": [],
   "source": [
    "def get_eval_metric(model, dataset):\n",
    "    y_validation = []\n",
    "    y_hat = []\n",
    "    for i in range(len(dataset)):\n",
    "        x_i = dataset[i][0]\n",
    "        y_i = dataset[i][1]\n",
    "        y_hat_i = model(x_i)\n",
    "        y_validation.append(y_i.item())\n",
    "        y_hat.append(y_hat_i.item())\n",
    "    eval_result = np.sqrt(F.mse_loss(torch.log(torch.tensor(y_validation)), torch.log(torch.tensor(y_hat))).item())\n",
    "    return y_validation, y_hat, eval_result"
   ]
  },
  {
   "cell_type": "code",
   "execution_count": 492,
   "metadata": {},
   "outputs": [],
   "source": [
    "def loss_batch(model, loss_func, xb, yb, opt=None):\n",
    "    loss = loss_func(model(xb), yb)\n",
    "    \n",
    "    if opt is not None:\n",
    "        loss.backward()\n",
    "        opt.step()\n",
    "        opt.zero_grad()\n",
    "    \n",
    "    return loss.sum(), len(xb)"
   ]
  },
  {
   "cell_type": "code",
   "execution_count": 493,
   "metadata": {},
   "outputs": [],
   "source": [
    "def fitModel(model, criterion, optimizer, train_dl, valid_dl, epochs):\n",
    "    train_loss = []\n",
    "    train_eval = []\n",
    "    valid_loss = []\n",
    "    valid_eval = []\n",
    "    for epoch in range(epochs):\n",
    "        model.train()\n",
    "        losses, nums = zip(*[loss_batch(model, criterion, xb, yb, optimizer) for xb, yb in train_dl])\n",
    "        cur_train_loss = np.sqrt(np.sum(np.multiply(losses, nums) / np.sum(nums)).item())\n",
    "\n",
    "        model.eval()\n",
    "        train_loss.append(np.sqrt(cur_train_loss))\n",
    "        _, _, train_eval_result = get_eval_metric(model, train_dl.dataset)\n",
    "        train_eval.append(train_eval_result)\n",
    "\n",
    "        val_loss = np.sum(np.multiply(losses, nums)) / np.sum(nums)        \n",
    "        with torch.no_grad():\n",
    "            losses, nums = zip(*[loss_batch(model, criterion, xb, yb) for xb, yb in valid_dl])\n",
    "            cur_val_loss = np.sqrt(np.sum(np.multiply(losses, nums) / np.sum(nums)).item())\n",
    "            valid_loss.append(np.sqrt(cur_val_loss))\n",
    "            _, _, validation_eval_result = get_eval_metric(model, valid_dl.dataset)\n",
    "            valid_eval.append(validation_eval_result)\n",
    "            print(epoch, np.sqrt(cur_train_loss), np.sqrt(cur_val_loss), train_eval_result, validation_eval_result)\n",
    "            if validation_eval_result > train_eval_result + 0.02 and validation_eval_result <=0.13:\n",
    "                print (\"Early stopping due to divergence on validation set\")\n",
    "                break\n",
    "    return train_loss, valid_loss, train_eval, valid_eval"
   ]
  },
  {
   "cell_type": "code",
   "execution_count": 494,
   "metadata": {},
   "outputs": [],
   "source": [
    "def gen_dataset_and_train_model(df_train,\n",
    "                                batch_size=128,\n",
    "                                train_frac=0.9, \n",
    "                                num_epochs = 100,\n",
    "                                learning_rate = 0.001,\n",
    "                                numeric_feature_set = {'1stFlrSF'},\n",
    "                                cat_col_vocab = {}):\n",
    "    train_dataloader, validation_dataloader, num_features, _ = get_train_and_validation_set(\n",
    "        df_train, batch_size, train_frac, numeric_feature_set, cat_col_vocab)\n",
    "    model = SimpleNN(num_features)\n",
    "    optimizer = optim.Adam(model.parameters(), lr=learning_rate, betas=(0.9, 0.999))\n",
    "    train_loss, valid_loss, train_eval, valid_eval = fitModel(\n",
    "        model, RMSELossOnLogPred(),optimizer, train_dataloader, validation_dataloader, num_epochs)\n",
    "    return model, train_loss, valid_loss,  train_eval, valid_eval, train_dataloader, validation_dataloader"
   ]
  },
  {
   "cell_type": "markdown",
   "metadata": {},
   "source": [
    "# Train model\n",
    "Now we train a model with early stopping"
   ]
  },
  {
   "cell_type": "code",
   "execution_count": 495,
   "metadata": {
    "scrolled": false
   },
   "outputs": [
    {
     "name": "stdout",
     "output_type": "stream",
     "text": [
      "Num_samples = 1460, Num_features = 278 from training data file\n",
      "split point is : 1168\n",
      "(0, 1.844971600884042, 1.7443647553078536, 9.266391149948703, 9.267736390574333)\n",
      "(1, 1.6853290989385856, 1.6279780991912425, 7.034029669739486, 7.036307588586586)\n",
      "(2, 1.5826820374837929, 1.5352767380250245, 5.568028649256434, 5.571143132537761)\n",
      "(3, 1.4914618207614347, 1.444965897968586, 4.374730129092831, 4.378904289905337)\n",
      "(4, 1.4069814036387212, 1.3652018922710643, 3.492495802683619, 3.497845531571103)\n",
      "(5, 1.3304934976941871, 1.288501819222132, 2.7795768591404593, 2.786334501468021)\n",
      "(6, 1.2493309755303057, 1.1995506338621955, 2.1004740225446175, 2.1093685573903347)\n",
      "(7, 1.1601005536402793, 1.1063056914325085, 1.5378065067353541, 1.5497679967449132)\n",
      "(8, 1.0683130846391844, 1.0077527843791099, 1.0814971156335356, 1.0980347221839213)\n",
      "(9, 0.9712238728859465, 0.8968696994649513, 0.7145289160321003, 0.7383556429403676)\n",
      "(10, 0.8681800079938871, 0.7808142502913683, 0.44758384744878255, 0.4822861484379427)\n",
      "(11, 0.7761580275969969, 0.7096210148733149, 0.3126615702659227, 0.3553724263232543)\n",
      "(12, 0.7262277794443999, 0.6829149784474874, 0.26520572558187483, 0.3069004731570214)\n",
      "(13, 0.7026079905702663, 0.6626375155339224, 0.23878329184729657, 0.27563860394733936)\n",
      "(14, 0.6872396043357389, 0.6478493230701038, 0.22270683082136772, 0.2539203493165054)\n",
      "(15, 0.6768350484297094, 0.6364127619008986, 0.21005599065965133, 0.23829157603668402)\n",
      "(16, 0.6675804934200069, 0.6269416842668674, 0.1999734346807073, 0.22577953700963452)\n",
      "(17, 0.6603398801960113, 0.6195956021845986, 0.19208667444156105, 0.21614784312558602)\n",
      "(18, 0.6544883811149359, 0.6137900568298228, 0.1857241536560575, 0.2085419186836064)\n",
      "(19, 0.6495802903891832, 0.609286995609268, 0.1804661775380875, 0.20241995558423126)\n",
      "(20, 0.6453505567960084, 0.6057259133537191, 0.175979867622592, 0.19737149221034397)\n",
      "(21, 0.6416067987501691, 0.6026795344066905, 0.172079625565053, 0.19306737834896012)\n",
      "(22, 0.6382148799486003, 0.5998920627936705, 0.1686001819023608, 0.1893009971110013)\n",
      "(23, 0.6350856907457626, 0.5972169100791209, 0.16544549882219642, 0.1859293158517176)\n",
      "(24, 0.6321777403527143, 0.5946391316542321, 0.16256868831811833, 0.1828490534534682)\n",
      "(25, 0.6294479882966584, 0.5921571534763868, 0.15990936626382043, 0.180015047739125)\n",
      "(26, 0.6268558381834796, 0.5897797141602971, 0.15739402382637516, 0.17734240182708644)\n",
      "(27, 0.6243613263846859, 0.5875156758522709, 0.1550138751191609, 0.17482757951244107)\n",
      "(28, 0.621969391688139, 0.5855642830585992, 0.1527590165907019, 0.17247157166680654)\n",
      "(29, 0.6196657399195582, 0.5837542693322532, 0.15062016767253097, 0.17023549241902386)\n",
      "(30, 0.6174330355441382, 0.5819325134326961, 0.14855592169939838, 0.16807249657758006)\n",
      "(31, 0.6152323376072825, 0.5801272161924347, 0.14654676380350515, 0.16596712638191538)\n",
      "(32, 0.6130503272818854, 0.578303210580887, 0.14456876706006203, 0.16388919737069774)\n",
      "(33, 0.6108899693461126, 0.5765164942271017, 0.1426648111584341, 0.16187934756424224)\n",
      "(34, 0.608772685083814, 0.5746788827246777, 0.14081070479634095, 0.1599071531037307)\n",
      "(35, 0.6066667811813928, 0.5727916716875079, 0.13899725363826104, 0.15795959755544142)\n",
      "(36, 0.6045759415909923, 0.5709160487031827, 0.13721584142453153, 0.15604715890114695)\n",
      "(37, 0.6024846457819542, 0.5689520155970987, 0.1354538166610655, 0.15411078421845603)\n",
      "(38, 0.6003772303021189, 0.5670243024212381, 0.1337068750810239, 0.15216285407110466)\n",
      "(39, 0.5982931221561041, 0.5651717877848214, 0.13202423494652218, 0.15028258567275196)\n",
      "(40, 0.5962572051653189, 0.5634033251640719, 0.13041539100423238, 0.14844502254297356)\n",
      "(41, 0.5942892112647661, 0.5617079842049219, 0.1288809317954351, 0.14668028129122201)\n",
      "(42, 0.5923792977368418, 0.5602131671915829, 0.12740796845338917, 0.14500626911184414)\n",
      "(43, 0.5905356142339636, 0.5587466778789069, 0.12602299566406075, 0.14339894650295432)\n",
      "(44, 0.5887854604532679, 0.5573820568320992, 0.12471234482786801, 0.14187009276713336)\n",
      "(45, 0.5870970947929288, 0.5561568936901117, 0.12345745070304279, 0.1403986181553366)\n",
      "(46, 0.5854789759441924, 0.5551214157957295, 0.12230824742212276, 0.1390160332959201)\n",
      "(47, 0.5839919471223377, 0.5541646658018208, 0.12124331912457675, 0.13773800478916395)\n",
      "(48, 0.5825739962134389, 0.5532658930919935, 0.12024638740586226, 0.13652593094673024)\n",
      "(49, 0.5812514970745073, 0.5524136839838439, 0.11932708657464602, 0.13541684853712732)\n",
      "(50, 0.5800078392675402, 0.5516053695594063, 0.11846822809951162, 0.1343464413502187)\n",
      "(51, 0.5788228088072412, 0.5508909869644022, 0.11765957162735306, 0.13334210771756685)\n",
      "(52, 0.5777046061134871, 0.550214156548526, 0.11689229180685388, 0.13242226659666242)\n",
      "(53, 0.5766218081668142, 0.5496101013873269, 0.11617323720706718, 0.13154424257518352)\n",
      "(54, 0.5755889505447537, 0.5489946761824636, 0.11548886645907651, 0.13071080214349948)\n",
      "(55, 0.5745915392042176, 0.5484810133635241, 0.11484580476051535, 0.12990984957949842)\n",
      "(56, 0.5736630177119378, 0.547960216303446, 0.11425379395550322, 0.12917981596768166)\n",
      "(57, 0.5728053520830445, 0.5474679602592372, 0.11370219747121249, 0.12852111271327848)\n",
      "(58, 0.5719938072546779, 0.5469787262552784, 0.11318620443418884, 0.1279017075669405)\n",
      "(59, 0.5712140550096141, 0.5465064311868345, 0.11269375537213071, 0.12733188029710749)\n",
      "(60, 0.5704706003332298, 0.5460610486537572, 0.11222448802508508, 0.1267896553447378)\n",
      "(61, 0.5697566682221266, 0.5456348708081644, 0.11176513762536452, 0.1263091480271869)\n",
      "(62, 0.5690448438466014, 0.5452045932725152, 0.11133046315063472, 0.12578824479929704)\n",
      "(63, 0.5683709816960124, 0.5448403311849428, 0.11089937149224263, 0.12538556151104277)\n",
      "(64, 0.5677039480243858, 0.5444647397028874, 0.11049252343290247, 0.12491604846871783)\n",
      "(65, 0.5670610953690411, 0.5441066856729234, 0.11009105383088794, 0.12452754499794362)\n",
      "(66, 0.5664145011702052, 0.5437150006233398, 0.10970664408165362, 0.12411296421683236)\n",
      "(67, 0.5658022870986126, 0.5433843303617133, 0.10931524705161476, 0.12380079500303426)\n",
      "(68, 0.5651895339360826, 0.5430101780005543, 0.10894354376685576, 0.12345359582621715)\n",
      "(69, 0.5645979031371603, 0.5427078791467688, 0.10857629361257076, 0.12316822698287265)\n",
      "(70, 0.5640152762755675, 0.542392675478767, 0.10821207453627667, 0.12287831871730694)\n",
      "(71, 0.563429671893451, 0.5421088637490481, 0.10784720833101706, 0.12262960101944147)\n",
      "(72, 0.5628196596340156, 0.5417340147393143, 0.10748801362779668, 0.1223132272380988)\n",
      "(73, 0.5622342480985032, 0.5414768411766683, 0.10713183956251074, 0.12210738572778028)\n",
      "(74, 0.5616462767765622, 0.5411693139916152, 0.1067604553210986, 0.12188307325815617)\n",
      "(75, 0.5610396410854755, 0.5408353934223842, 0.10640051100150398, 0.12159360501151557)\n",
      "(76, 0.5604347559656838, 0.5405383518303603, 0.10603863786120385, 0.1213973607671559)\n",
      "(77, 0.5598268442799271, 0.540267269322022, 0.1056693958903741, 0.12122644952153078)\n",
      "(78, 0.5592287253382504, 0.5399066457160513, 0.10531421660685382, 0.12097639888793012)\n",
      "(79, 0.5586134227640495, 0.5397008708546094, 0.10493534360292205, 0.12081724176534528)\n",
      "(80, 0.5579892186223145, 0.5393883490443033, 0.10455600180331089, 0.12067467715378435)\n",
      "(81, 0.5573391259870105, 0.5391580045481515, 0.10417856853758119, 0.12049925911347173)\n",
      "(82, 0.5567007211220782, 0.5388954618211539, 0.10378603434425429, 0.12038366098950959)\n",
      "(83, 0.5560510012535461, 0.5386387915995584, 0.10339280255437074, 0.12027003867317272)\n",
      "(84, 0.5553745971857139, 0.5383272440132866, 0.10298164312281037, 0.12014325952190169)\n",
      "(85, 0.5546886841680412, 0.5381307055846561, 0.10257451943033455, 0.12007945328662185)\n",
      "(86, 0.5539847922688506, 0.537779492276842, 0.10214015934443962, 0.11992602139241385)\n",
      "(87, 0.5532566283764245, 0.5375967024519992, 0.10171023041634455, 0.11991023634681024)\n",
      "(88, 0.5525252577419177, 0.5374110158373845, 0.10127180017855882, 0.11982147132814094)\n",
      "(89, 0.5517437686220561, 0.5372089116012974, 0.10082198195939367, 0.1197754526740752)\n",
      "(90, 0.5509969293653821, 0.5370096611093985, 0.10036868178421535, 0.11968812839004454)\n",
      "(91, 0.5501846324520868, 0.5368077270721376, 0.09990271682893331, 0.11965610039358682)\n",
      "(92, 0.5493663849663674, 0.5367619919402783, 0.09945995680424638, 0.11962859095317785)\n",
      "Early stopping due to divergence on validation set\n"
     ]
    }
   ],
   "source": [
    "num_epochs = 300\n",
    "batch_size=16\n",
    "train_frac=0.8\n",
    "learning_rate = 0.001\n",
    "numeric_feature_set = {'3SsnPorch', 'BsmtFullBath', 'OpenPorchSF', '2ndFlrSF', 'HalfBath', \n",
    "                       'OverallCond', 'LotArea', 'GrLivArea', 'YearRemodAdd', 'MasVnrArea', \n",
    "                       '1stFlrSF', 'Fireplaces', 'EnclosedPorch', 'LotFrontage', 'MiscVal', \n",
    "                       'OverallQual', 'KitchenAbvGr', 'WoodDeckSF', 'MoSold', 'BsmtHalfBath', \n",
    "                       'TotalBsmtSF', 'TotRmsAbvGrd', 'BsmtUnfSF', 'GarageYrBlt', 'FullBath',\n",
    "                       'YrSold', 'MSSubClass', 'YearBuilt', 'BsmtFinSF1', 'BsmtFinSF2', 'PoolArea', \n",
    "                       'ScreenPorch', 'BedroomAbvGr', 'LowQualFinSF', 'GarageArea', 'GarageCars'}\n",
    "model, train_loss, valid_loss, train_eval, valid_eval, train_dl, validation_dl = gen_dataset_and_train_model(\n",
    "    df_train, batch_size, train_frac, num_epochs, learning_rate, numeric_feature_set, cat_col_vocab)\n",
    "    "
   ]
  },
  {
   "cell_type": "code",
   "execution_count": 496,
   "metadata": {},
   "outputs": [
    {
     "data": {
      "text/plain": [
       "Text(0.5,1,'Training and validation loss for model from i = 1')"
      ]
     },
     "execution_count": 496,
     "metadata": {},
     "output_type": "execute_result"
    },
    {
     "data": {
      "image/png": "[encoded data removed]",
      "text/plain": [
       "<Figure size 1440x432 with 1 Axes>"
      ]
     },
     "metadata": {
      "needs_background": "light"
     },
     "output_type": "display_data"
    }
   ],
   "source": [
    "plt.figure(figsize=(20,6))\n",
    "epochs = range(len(train_loss))\n",
    "plt.plot(epochs, train_loss, valid_loss)\n",
    "plt.ylim([0, 1])\n",
    "plt.grid(True)\n",
    "plt.legend(['train_loss', 'valid_loss'])\n",
    "plt.xlabel(\"epoch\")\n",
    "plt.ylabel(\"Loss function\")\n",
    "plt.title(\"Training and validation loss for model from i = {}\".format(1))"
   ]
  },
  {
   "cell_type": "code",
   "execution_count": 497,
   "metadata": {},
   "outputs": [
    {
     "data": {
      "text/plain": [
       "Text(0.5,1,'Training and validation evaluation(MSE on log(pred)) for model from i = 1')"
      ]
     },
     "execution_count": 497,
     "metadata": {},
     "output_type": "execute_result"
    },
    {
     "data": {
      "image/png": "[encoded data removed]",
      "text/plain": [
       "<Figure size 1440x432 with 1 Axes>"
      ]
     },
     "metadata": {
      "needs_background": "light"
     },
     "output_type": "display_data"
    }
   ],
   "source": [
    "plt.figure(figsize=(20,6))\n",
    "epochs = range(len(train_eval))\n",
    "plt.plot(epochs, train_eval, valid_eval)\n",
    "plt.ylim([0, 0.6])\n",
    "plt.grid(True)\n",
    "plt.legend(['train_loss', 'valid_loss'])\n",
    "plt.xlabel(\"epoch\")\n",
    "plt.ylabel(\"MSE on log(pred)\")\n",
    "plt.title(\"Training and validation evaluation(MSE on log(pred)) for model from i = {}\".format(1))"
   ]
  },
  {
   "cell_type": "code",
   "execution_count": 498,
   "metadata": {},
   "outputs": [
    {
     "data": {
      "text/plain": [
       "Text(0.5,1,'Eval result = 0.119628590953')"
      ]
     },
     "execution_count": 498,
     "metadata": {},
     "output_type": "execute_result"
    },
    {
     "data": {
      "image/png": "[encoded data removed]",
      "text/plain": [
       "<Figure size 432x288 with 1 Axes>"
      ]
     },
     "metadata": {
      "needs_background": "light"
     },
     "output_type": "display_data"
    }
   ],
   "source": [
    "y_validation, y_hat, eval_result = get_eval_metric(model, validation_dl.dataset)\n",
    "plt.scatter(y_validation, y_hat)\n",
    "plt.grid(True)\n",
    "plt.title(\"Eval result = {}\".format(eval_result))"
   ]
  },
  {
   "cell_type": "code",
   "execution_count": 499,
   "metadata": {},
   "outputs": [],
   "source": [
    "#eval_result = np.sqrt(F.mse_loss(torch.log(torch.tensor(y_validation)), torch.log(torch.tensor(y_hat))).item())\n"
   ]
  },
  {
   "cell_type": "code",
   "execution_count": 500,
   "metadata": {},
   "outputs": [
    {
     "data": {
      "text/plain": [
       "Text(0.5,1,'Eval result = 0.0994599568042')"
      ]
     },
     "execution_count": 500,
     "metadata": {},
     "output_type": "execute_result"
    },
    {
     "data": {
      "image/png": "[encoded data removed]",
      "text/plain": [
       "<Figure size 432x288 with 1 Axes>"
      ]
     },
     "metadata": {
      "needs_background": "light"
     },
     "output_type": "display_data"
    }
   ],
   "source": [
    "y_validation, y_hat, eval_result = get_eval_metric(model, train_dl.dataset)\n",
    "plt.scatter(y_validation, y_hat)\n",
    "plt.grid(True)\n",
    "plt.title(\"Eval result = {}\".format(eval_result))"
   ]
  },
  {
   "cell_type": "code",
   "execution_count": 501,
   "metadata": {},
   "outputs": [],
   "source": [
    "ids = []\n",
    "X_pred = []\n",
    "Y_pred = []\n",
    "for idx, row in df_test.iterrows():\n",
    "    record_id, X_row, _ = get_featurized_data(row, False, numeric_feature_set, cat_col_vocab)\n",
    "    X_pred.append(X_row)\n",
    "    ids.append(record_id)"
   ]
  },
  {
   "cell_type": "code",
   "execution_count": 502,
   "metadata": {},
   "outputs": [],
   "source": [
    "f = open('preds.txt', 'w')\n",
    "f.write(\"Id,SalePrice\\n\")\n",
    "for i in range(len(X_pred)):\n",
    "    y_pred = model(X_pred[i]).item()\n",
    "    Y_pred.append(y_pred)\n",
    "    f.write(\"{},{}\\n\".format(ids[i], y_pred))\n",
    "f.close()"
   ]
  }
 ],
 "metadata": {
  "kernelspec": {
   "display_name": "Python 2",
   "language": "python",
   "name": "python2"
  },
  "language_info": {
   "codemirror_mode": {
    "name": "ipython",
    "version": 2
   },
   "file_extension": ".py",
   "mimetype": "text/x-python",
   "name": "python",
   "nbconvert_exporter": "python",
   "pygments_lexer": "ipython2",
   "version": "2.7.16"
  }
 },
 "nbformat": 4,
 "nbformat_minor": 2
}
