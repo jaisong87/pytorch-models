{
 "cells": [
  {
   "cell_type": "code",
   "execution_count": 5,
   "metadata": {},
   "outputs": [],
   "source": [
    "import torch\n",
    "import torch.nn as nn\n",
    "import torch.optim as optim"
   ]
  },
  {
   "cell_type": "markdown",
   "metadata": {},
   "source": [
    "# Define a model class\n",
    "This model class is defined for dummy purposes. We don't use any actual training data for this model.\n",
    "We use this class to demonstrate saving of models"
   ]
  },
  {
   "cell_type": "code",
   "execution_count": 12,
   "metadata": {},
   "outputs": [],
   "source": [
    "# Define model\n",
    "class SimpleNN(nn.Module):\n",
    "    def __init__(self, D_in, H, D_out):\n",
    "        super(SimpleNN, self).__init__()\n",
    "        self.fc1 = nn.Linear(D_in, H)\n",
    "        self.fc2 = nn.Linear(H, D_out)\n",
    "\n",
    "    def forward(self, x):\n",
    "        x = F.relu(self.fc1(x))\n",
    "        x = self.fc2(x)\n",
    "        return x"
   ]
  },
  {
   "cell_type": "markdown",
   "metadata": {},
   "source": [
    "# Initialize model and print state dict\n",
    "We simply initialize a simpleNN model and display its weights"
   ]
  },
  {
   "cell_type": "code",
   "execution_count": 21,
   "metadata": {},
   "outputs": [],
   "source": [
    "# Initialize model\n",
    "model = SimpleNN(10, 5, 2)\n",
    "\n",
    "# Initialize optimizer\n",
    "optimizer = optim.SGD(model.parameters(), lr=0.001, momentum=0.9)"
   ]
  },
  {
   "cell_type": "code",
   "execution_count": 22,
   "metadata": {},
   "outputs": [
    {
     "data": {
      "text/plain": [
       "OrderedDict([('fc1.weight',\n",
       "              tensor([[ 0.2117,  0.0977,  0.1019,  0.1360, -0.0090,  0.1788,  0.2858,  0.0869,\n",
       "                        0.2018, -0.3115],\n",
       "                      [-0.0054, -0.0701,  0.0437, -0.0901,  0.1675, -0.0519,  0.0745,  0.2853,\n",
       "                        0.0275, -0.1648],\n",
       "                      [ 0.1453, -0.0004,  0.0510,  0.0302,  0.1480,  0.0504,  0.1632, -0.0638,\n",
       "                        0.1941,  0.2771],\n",
       "                      [-0.2011,  0.3143,  0.0317,  0.0947, -0.1041, -0.2499,  0.2555, -0.2850,\n",
       "                       -0.1223,  0.0376],\n",
       "                      [ 0.2990,  0.0105, -0.0436,  0.2773,  0.0673, -0.1720,  0.0293,  0.0463,\n",
       "                       -0.1830,  0.0466]])),\n",
       "             ('fc1.bias', tensor([0.0295, 0.2434, 0.0940, 0.0825, 0.0175])),\n",
       "             ('fc2.weight',\n",
       "              tensor([[ 0.3498,  0.1448,  0.2090, -0.2425, -0.2384],\n",
       "                      [ 0.3390, -0.3021,  0.3031, -0.2717, -0.1913]])),\n",
       "             ('fc2.bias', tensor([-0.2153, -0.2692]))])"
      ]
     },
     "execution_count": 22,
     "metadata": {},
     "output_type": "execute_result"
    }
   ],
   "source": [
    "model.state_dict()"
   ]
  },
  {
   "cell_type": "code",
   "execution_count": 23,
   "metadata": {},
   "outputs": [
    {
     "name": "stdout",
     "output_type": "stream",
     "text": [
      "Model's state_dict:\n",
      "('fc1.weight', '\\t', torch.Size([5, 10]))\n",
      "('fc1.bias', '\\t', torch.Size([5]))\n",
      "('fc2.weight', '\\t', torch.Size([2, 5]))\n",
      "('fc2.bias', '\\t', torch.Size([2]))\n",
      "Optimizer's state_dict:\n",
      "('state', '\\t', {})\n",
      "('param_groups', '\\t', [{'dampening': 0, 'nesterov': False, 'lr': 0.001, 'params': [140549204243072, 140549204216240, 140549204215520, 140549204215680], 'weight_decay': 0, 'momentum': 0.9}])\n"
     ]
    }
   ],
   "source": [
    "# Print model's state_dict\n",
    "print(\"Model's state_dict:\")\n",
    "for param_tensor in model.state_dict():\n",
    "    print(param_tensor, \"\\t\", model.state_dict()[param_tensor].size())\n",
    "\n",
    "# Print optimizer's state_dict\n",
    "print(\"Optimizer's state_dict:\")\n",
    "for var_name in optimizer.state_dict():\n",
    "    print(var_name, \"\\t\", optimizer.state_dict()[var_name])"
   ]
  },
  {
   "cell_type": "markdown",
   "metadata": {},
   "source": [
    "# Save model state dict\n",
    "We call mode.state_dict() and use torch.save() for saving it"
   ]
  },
  {
   "cell_type": "code",
   "execution_count": 34,
   "metadata": {},
   "outputs": [],
   "source": [
    "torch.save(model.state_dict(), \"simpleNN_state_dict.pt\")"
   ]
  },
  {
   "cell_type": "markdown",
   "metadata": {},
   "source": [
    "# Load and display model weights\n",
    "Read model weights back from file and display it"
   ]
  },
  {
   "cell_type": "code",
   "execution_count": 35,
   "metadata": {},
   "outputs": [
    {
     "data": {
      "text/plain": [
       "OrderedDict([('fc1.weight',\n",
       "              tensor([[ 0.2117,  0.0977,  0.1019,  0.1360, -0.0090,  0.1788,  0.2858,  0.0869,\n",
       "                        0.2018, -0.3115],\n",
       "                      [-0.0054, -0.0701,  0.0437, -0.0901,  0.1675, -0.0519,  0.0745,  0.2853,\n",
       "                        0.0275, -0.1648],\n",
       "                      [ 0.1453, -0.0004,  0.0510,  0.0302,  0.1480,  0.0504,  0.1632, -0.0638,\n",
       "                        0.1941,  0.2771],\n",
       "                      [-0.2011,  0.3143,  0.0317,  0.0947, -0.1041, -0.2499,  0.2555, -0.2850,\n",
       "                       -0.1223,  0.0376],\n",
       "                      [ 0.2990,  0.0105, -0.0436,  0.2773,  0.0673, -0.1720,  0.0293,  0.0463,\n",
       "                       -0.1830,  0.0466]])),\n",
       "             ('fc1.bias', tensor([0.0295, 0.2434, 0.0940, 0.0825, 0.0175])),\n",
       "             ('fc2.weight',\n",
       "              tensor([[ 0.3498,  0.1448,  0.2090, -0.2425, -0.2384],\n",
       "                      [ 0.3390, -0.3021,  0.3031, -0.2717, -0.1913]])),\n",
       "             ('fc2.bias', tensor([-0.2153, -0.2692]))])"
      ]
     },
     "execution_count": 35,
     "metadata": {},
     "output_type": "execute_result"
    }
   ],
   "source": [
    "model_weights_for_simpleNN = torch.load(\"simpleNN_state_dict.pt\")\n",
    "model_weights_for_simpleNN"
   ]
  },
  {
   "cell_type": "markdown",
   "metadata": {},
   "source": [
    "# Create a new simpleNN instance and load saved weights\n",
    "We create a new model instance which will initialize to random weights.\n",
    "Later we update model with weights saved from our saved weights file"
   ]
  },
  {
   "cell_type": "code",
   "execution_count": 36,
   "metadata": {},
   "outputs": [],
   "source": [
    "simpleNN2 = SimpleNN(10, 5, 2)"
   ]
  },
  {
   "cell_type": "code",
   "execution_count": 37,
   "metadata": {},
   "outputs": [
    {
     "data": {
      "text/plain": [
       "OrderedDict([('fc1.weight',\n",
       "              tensor([[ 0.0076,  0.1020, -0.0166,  0.2863,  0.1154, -0.0625,  0.1471, -0.2762,\n",
       "                       -0.0199, -0.1594],\n",
       "                      [ 0.2407, -0.1163,  0.1315,  0.0423,  0.2353, -0.2161,  0.0976,  0.1365,\n",
       "                       -0.0839,  0.0256],\n",
       "                      [-0.2097, -0.2250, -0.3008, -0.1220, -0.1416,  0.2970,  0.2111, -0.0796,\n",
       "                        0.0311,  0.0188],\n",
       "                      [ 0.0165,  0.1525,  0.0448,  0.1531, -0.0604,  0.1606,  0.1225,  0.0734,\n",
       "                       -0.1851,  0.1884],\n",
       "                      [-0.2744,  0.0800,  0.2783, -0.1423, -0.1872, -0.0321, -0.2963, -0.0399,\n",
       "                       -0.2470,  0.3038]])),\n",
       "             ('fc1.bias',\n",
       "              tensor([-0.2457, -0.1883, -0.0295,  0.0472, -0.0949])),\n",
       "             ('fc2.weight',\n",
       "              tensor([[ 0.0720,  0.0069, -0.3178,  0.0202,  0.3068],\n",
       "                      [ 0.2276, -0.3540, -0.2972, -0.1282, -0.3491]])),\n",
       "             ('fc2.bias', tensor([-0.4367,  0.0132]))])"
      ]
     },
     "execution_count": 37,
     "metadata": {},
     "output_type": "execute_result"
    }
   ],
   "source": [
    "simpleNN2.state_dict()"
   ]
  },
  {
   "cell_type": "markdown",
   "metadata": {},
   "source": [
    "Apply saved weights and show them"
   ]
  },
  {
   "cell_type": "code",
   "execution_count": 41,
   "metadata": {},
   "outputs": [
    {
     "data": {
      "text/plain": [
       "OrderedDict([('fc1.weight',\n",
       "              tensor([[ 0.2117,  0.0977,  0.1019,  0.1360, -0.0090,  0.1788,  0.2858,  0.0869,\n",
       "                        0.2018, -0.3115],\n",
       "                      [-0.0054, -0.0701,  0.0437, -0.0901,  0.1675, -0.0519,  0.0745,  0.2853,\n",
       "                        0.0275, -0.1648],\n",
       "                      [ 0.1453, -0.0004,  0.0510,  0.0302,  0.1480,  0.0504,  0.1632, -0.0638,\n",
       "                        0.1941,  0.2771],\n",
       "                      [-0.2011,  0.3143,  0.0317,  0.0947, -0.1041, -0.2499,  0.2555, -0.2850,\n",
       "                       -0.1223,  0.0376],\n",
       "                      [ 0.2990,  0.0105, -0.0436,  0.2773,  0.0673, -0.1720,  0.0293,  0.0463,\n",
       "                       -0.1830,  0.0466]])),\n",
       "             ('fc1.bias', tensor([0.0295, 0.2434, 0.0940, 0.0825, 0.0175])),\n",
       "             ('fc2.weight',\n",
       "              tensor([[ 0.3498,  0.1448,  0.2090, -0.2425, -0.2384],\n",
       "                      [ 0.3390, -0.3021,  0.3031, -0.2717, -0.1913]])),\n",
       "             ('fc2.bias', tensor([-0.2153, -0.2692]))])"
      ]
     },
     "execution_count": 41,
     "metadata": {},
     "output_type": "execute_result"
    }
   ],
   "source": [
    "simpleNN2.load_state_dict(model_weights_for_simpleNN)\n",
    "simpleNN2.state_dict()"
   ]
  },
  {
   "cell_type": "markdown",
   "metadata": {},
   "source": [
    "# Save entire model as a file\n",
    "Instead of state dict save the entire model in a file"
   ]
  },
  {
   "cell_type": "code",
   "execution_count": 42,
   "metadata": {},
   "outputs": [],
   "source": [
    "torch.save(simpleNN2, \"simpleNN.pt\")"
   ]
  },
  {
   "cell_type": "code",
   "execution_count": 48,
   "metadata": {},
   "outputs": [
    {
     "data": {
      "text/plain": [
       "SimpleNN(\n",
       "  (fc1): Linear(in_features=10, out_features=5, bias=True)\n",
       "  (fc2): Linear(in_features=5, out_features=2, bias=True)\n",
       ")"
      ]
     },
     "execution_count": 48,
     "metadata": {},
     "output_type": "execute_result"
    }
   ],
   "source": [
    "simpleNN3 = torch.load(\"simpleNN.pt\")\n",
    "# To ensure we are not in training model\n",
    "# If eval() is not called before inference, it can yield inconsistent results\n",
    "simpleNN3.eval()"
   ]
  },
  {
   "cell_type": "code",
   "execution_count": 49,
   "metadata": {},
   "outputs": [
    {
     "data": {
      "text/plain": [
       "OrderedDict([('fc1.weight',\n",
       "              tensor([[ 0.2117,  0.0977,  0.1019,  0.1360, -0.0090,  0.1788,  0.2858,  0.0869,\n",
       "                        0.2018, -0.3115],\n",
       "                      [-0.0054, -0.0701,  0.0437, -0.0901,  0.1675, -0.0519,  0.0745,  0.2853,\n",
       "                        0.0275, -0.1648],\n",
       "                      [ 0.1453, -0.0004,  0.0510,  0.0302,  0.1480,  0.0504,  0.1632, -0.0638,\n",
       "                        0.1941,  0.2771],\n",
       "                      [-0.2011,  0.3143,  0.0317,  0.0947, -0.1041, -0.2499,  0.2555, -0.2850,\n",
       "                       -0.1223,  0.0376],\n",
       "                      [ 0.2990,  0.0105, -0.0436,  0.2773,  0.0673, -0.1720,  0.0293,  0.0463,\n",
       "                       -0.1830,  0.0466]])),\n",
       "             ('fc1.bias', tensor([0.0295, 0.2434, 0.0940, 0.0825, 0.0175])),\n",
       "             ('fc2.weight',\n",
       "              tensor([[ 0.3498,  0.1448,  0.2090, -0.2425, -0.2384],\n",
       "                      [ 0.3390, -0.3021,  0.3031, -0.2717, -0.1913]])),\n",
       "             ('fc2.bias', tensor([-0.2153, -0.2692]))])"
      ]
     },
     "execution_count": 49,
     "metadata": {},
     "output_type": "execute_result"
    }
   ],
   "source": [
    "simpleNN3.state_dict()"
   ]
  },
  {
   "cell_type": "code",
   "execution_count": null,
   "metadata": {},
   "outputs": [],
   "source": []
  }
 ],
 "metadata": {
  "kernelspec": {
   "display_name": "Python 2",
   "language": "python",
   "name": "python2"
  },
  "language_info": {
   "codemirror_mode": {
    "name": "ipython",
    "version": 2
   },
   "file_extension": ".py",
   "mimetype": "text/x-python",
   "name": "python",
   "nbconvert_exporter": "python",
   "pygments_lexer": "ipython2",
   "version": "2.7.16"
  }
 },
 "nbformat": 4,
 "nbformat_minor": 2
}
